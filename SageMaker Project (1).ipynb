{
 "cells": [
  {
   "cell_type": "markdown",
   "metadata": {},
   "source": [
    "# Creating a Sentiment Analysis Web App\n",
    "## Using PyTorch and SageMaker\n",
    "\n",
    "_Deep Learning Nanodegree Program | Deployment_\n",
    "\n",
    "---\n",
    "\n",
    "Now that we have a basic understanding of how SageMaker works we will try to use it to construct a complete project from end to end. Our goal will be to have a simple web page which a user can use to enter a movie review. The web page will then send the review off to our deployed model which will predict the sentiment of the entered review.\n",
    "\n",
    "## Instructions\n",
    "\n",
    "Some template code has already been provided for you, and you will need to implement additional functionality to successfully complete this notebook. You will not need to modify the included code beyond what is requested. Sections that begin with '**TODO**' in the header indicate that you need to complete or implement some portion within them. Instructions will be provided for each section and the specifics of the implementation are marked in the code block with a `# TODO: ...` comment. Please be sure to read the instructions carefully!\n",
    "\n",
    "In addition to implementing code, there will be questions for you to answer which relate to the task and your implementation. Each section where you will answer a question is preceded by a '**Question:**' header. Carefully read each question and provide your answer below the '**Answer:**' header by editing the Markdown cell.\n",
    "\n",
    "> **Note**: Code and Markdown cells can be executed using the **Shift+Enter** keyboard shortcut. In addition, a cell can be edited by typically clicking it (double-click for Markdown cells) or by pressing **Enter** while it is highlighted.\n",
    "\n",
    "## General Outline\n",
    "\n",
    "Recall the general outline for SageMaker projects using a notebook instance.\n",
    "\n",
    "1. Download or otherwise retrieve the data.\n",
    "2. Process / Prepare the data.\n",
    "3. Upload the processed data to S3.\n",
    "4. Train a chosen model.\n",
    "5. Test the trained model (typically using a batch transform job).\n",
    "6. Deploy the trained model.\n",
    "7. Use the deployed model.\n",
    "\n",
    "For this project, you will be following the steps in the general outline with some modifications. \n",
    "\n",
    "First, you will not be testing the model in its own step. You will still be testing the model, however, you will do it by deploying your model and then using the deployed model by sending the test data to it. One of the reasons for doing this is so that you can make sure that your deployed model is working correctly before moving forward.\n",
    "\n",
    "In addition, you will deploy and use your trained model a second time. In the second iteration you will customize the way that your trained model is deployed by including some of your own code. In addition, your newly deployed model will be used in the sentiment analysis web app."
   ]
  },
  {
   "cell_type": "markdown",
   "metadata": {},
   "source": [
    "## Step 1: Downloading the data\n",
    "\n",
    "As in the XGBoost in SageMaker notebook, we will be using the [IMDb dataset](http://ai.stanford.edu/~amaas/data/sentiment/)\n",
    "\n",
    "> Maas, Andrew L., et al. [Learning Word Vectors for Sentiment Analysis](http://ai.stanford.edu/~amaas/data/sentiment/). In _Proceedings of the 49th Annual Meeting of the Association for Computational Linguistics: Human Language Technologies_. Association for Computational Linguistics, 2011."
   ]
  },
  {
   "cell_type": "code",
   "execution_count": 1,
   "metadata": {},
   "outputs": [
    {
     "name": "stdout",
     "output_type": "stream",
     "text": [
      "mkdir: cannot create directory ‘../data’: File exists\n",
      "--2019-05-25 18:10:51--  http://ai.stanford.edu/~amaas/data/sentiment/aclImdb_v1.tar.gz\n",
      "Resolving ai.stanford.edu (ai.stanford.edu)... 171.64.68.10\n",
      "Connecting to ai.stanford.edu (ai.stanford.edu)|171.64.68.10|:80... connected.\n",
      "HTTP request sent, awaiting response... 200 OK\n",
      "Length: 84125825 (80M) [application/x-gzip]\n",
      "Saving to: ‘../data/aclImdb_v1.tar.gz’\n",
      "\n",
      "../data/aclImdb_v1. 100%[===================>]  80.23M  28.8MB/s    in 2.8s    \n",
      "\n",
      "2019-05-25 18:10:54 (28.8 MB/s) - ‘../data/aclImdb_v1.tar.gz’ saved [84125825/84125825]\n",
      "\n"
     ]
    }
   ],
   "source": [
    "%mkdir ../data\n",
    "!wget -O ../data/aclImdb_v1.tar.gz http://ai.stanford.edu/~amaas/data/sentiment/aclImdb_v1.tar.gz\n",
    "!tar -zxf ../data/aclImdb_v1.tar.gz -C ../data"
   ]
  },
  {
   "cell_type": "markdown",
   "metadata": {},
   "source": [
    "## Step 2: Preparing and Processing the data\n",
    "\n",
    "Also, as in the XGBoost notebook, we will be doing some initial data processing. The first few steps are the same as in the XGBoost example. To begin with, we will read in each of the reviews and combine them into a single input structure. Then, we will split the dataset into a training set and a testing set."
   ]
  },
  {
   "cell_type": "code",
   "execution_count": 2,
   "metadata": {},
   "outputs": [],
   "source": [
    "import os\n",
    "import glob\n",
    "\n",
    "def read_imdb_data(data_dir='../data/aclImdb'):\n",
    "    data = {}\n",
    "    labels = {}\n",
    "    \n",
    "    for data_type in ['train', 'test']:\n",
    "        data[data_type] = {}\n",
    "        labels[data_type] = {}\n",
    "        \n",
    "        for sentiment in ['pos', 'neg']:\n",
    "            data[data_type][sentiment] = []\n",
    "            labels[data_type][sentiment] = []\n",
    "            \n",
    "            path = os.path.join(data_dir, data_type, sentiment, '*.txt')\n",
    "            files = glob.glob(path)\n",
    "            \n",
    "            for f in files:\n",
    "                with open(f) as review:\n",
    "                    data[data_type][sentiment].append(review.read())\n",
    "                    # Here we represent a positive review by '1' and a negative review by '0'\n",
    "                    labels[data_type][sentiment].append(1 if sentiment == 'pos' else 0)\n",
    "                    \n",
    "            assert len(data[data_type][sentiment]) == len(labels[data_type][sentiment]), \\\n",
    "                    \"{}/{} data size does not match labels size\".format(data_type, sentiment)\n",
    "                \n",
    "    return data, labels"
   ]
  },
  {
   "cell_type": "code",
   "execution_count": 3,
   "metadata": {},
   "outputs": [
    {
     "name": "stdout",
     "output_type": "stream",
     "text": [
      "IMDB reviews: train = 12500 pos / 12500 neg, test = 12500 pos / 12500 neg\n"
     ]
    }
   ],
   "source": [
    "data, labels = read_imdb_data()\n",
    "print(\"IMDB reviews: train = {} pos / {} neg, test = {} pos / {} neg\".format(\n",
    "            len(data['train']['pos']), len(data['train']['neg']),\n",
    "            len(data['test']['pos']), len(data['test']['neg'])))"
   ]
  },
  {
   "cell_type": "markdown",
   "metadata": {},
   "source": [
    "Now that we've read the raw training and testing data from the downloaded dataset, we will combine the positive and negative reviews and shuffle the resulting records."
   ]
  },
  {
   "cell_type": "code",
   "execution_count": 4,
   "metadata": {},
   "outputs": [],
   "source": [
    "from sklearn.utils import shuffle\n",
    "\n",
    "def prepare_imdb_data(data, labels):\n",
    "    \"\"\"Prepare training and test sets from IMDb movie reviews.\"\"\"\n",
    "    \n",
    "    #Combine positive and negative reviews and labels\n",
    "    data_train = data['train']['pos'] + data['train']['neg']\n",
    "    data_test = data['test']['pos'] + data['test']['neg']\n",
    "    labels_train = labels['train']['pos'] + labels['train']['neg']\n",
    "    labels_test = labels['test']['pos'] + labels['test']['neg']\n",
    "    \n",
    "    #Shuffle reviews and corresponding labels within training and test sets\n",
    "    data_train, labels_train = shuffle(data_train, labels_train)\n",
    "    data_test, labels_test = shuffle(data_test, labels_test)\n",
    "    \n",
    "    # Return a unified training data, test data, training labels, test labets\n",
    "    return data_train, data_test, labels_train, labels_test"
   ]
  },
  {
   "cell_type": "code",
   "execution_count": 5,
   "metadata": {},
   "outputs": [
    {
     "name": "stdout",
     "output_type": "stream",
     "text": [
      "IMDb reviews (combined): train = 25000, test = 25000\n"
     ]
    }
   ],
   "source": [
    "train_X, test_X, train_y, test_y = prepare_imdb_data(data, labels)\n",
    "print(\"IMDb reviews (combined): train = {}, test = {}\".format(len(train_X), len(test_X)))"
   ]
  },
  {
   "cell_type": "markdown",
   "metadata": {},
   "source": [
    "Now that we have our training and testing sets unified and prepared, we should do a quick check and see an example of the data our model will be trained on. This is generally a good idea as it allows you to see how each of the further processing steps affects the reviews and it also ensures that the data has been loaded correctly."
   ]
  },
  {
   "cell_type": "code",
   "execution_count": 6,
   "metadata": {},
   "outputs": [
    {
     "name": "stdout",
     "output_type": "stream",
     "text": [
      "ROCK N ROLL HIGH SCHOOL holds a special place in my heart because it introduced me to the Ramones. I was too young during the band's mid-70s heyday to be very aware of them, although I had an older cousin who was a big fan at the time. I finally saw RNRHS on television one afternoon in the mid-80s when I was about fifteen years old, and laughed all the way through it. (Isn't it every high school kid's dream to trash his school and blow it up, all set to a rockin' soundtrack?) I recorded a subsequent airing of the film a year or two later and kept watching the Ramones concert sequences over and over again, thinking \"Man, these guys kick ass! I have to check out some of their albums!\" The rest is history. Twenty years, umpteen Ramones LPs/cassettes/CDs, and three Ramones shows later, they're still one of my all time favorite bands and RNRHS still cracks me up every time I watch it. Now that Joey, Dee Dee and Johnny have left us (R.I.P. all)at least we have this movie and tons of great music to remember them by.\n",
      "1\n"
     ]
    }
   ],
   "source": [
    "print(train_X[100])\n",
    "print(train_y[100])"
   ]
  },
  {
   "cell_type": "markdown",
   "metadata": {},
   "source": [
    "The first step in processing the reviews is to make sure that any html tags that appear should be removed. In addition we wish to tokenize our input, that way words such as *entertained* and *entertaining* are considered the same with regard to sentiment analysis."
   ]
  },
  {
   "cell_type": "code",
   "execution_count": 7,
   "metadata": {},
   "outputs": [],
   "source": [
    "import nltk\n",
    "from nltk.corpus import stopwords\n",
    "from nltk.stem.porter import *\n",
    "\n",
    "import re\n",
    "from bs4 import BeautifulSoup\n",
    "\n",
    "def review_to_words(review):\n",
    "    nltk.download(\"stopwords\", quiet=True)\n",
    "    stemmer = PorterStemmer()\n",
    "    \n",
    "    text = BeautifulSoup(review, \"html.parser\").get_text() # Remove HTML tags\n",
    "    text = re.sub(r\"[^a-zA-Z0-9]\", \" \", text.lower()) # Convert to lower case\n",
    "    words = text.split() # Split string into words\n",
    "    words = [w for w in words if w not in stopwords.words(\"english\")] # Remove stopwords\n",
    "    words = [PorterStemmer().stem(w) for w in words] # stem\n",
    "    \n",
    "    return words"
   ]
  },
  {
   "cell_type": "markdown",
   "metadata": {},
   "source": [
    "The `review_to_words` method defined above uses `BeautifulSoup` to remove any html tags that appear and uses the `nltk` package to tokenize the reviews. As a check to ensure we know how everything is working, try applying `review_to_words` to one of the reviews in the training set."
   ]
  },
  {
   "cell_type": "code",
   "execution_count": 8,
   "metadata": {},
   "outputs": [
    {
     "name": "stdout",
     "output_type": "stream",
     "text": [
      "['rock', 'n', 'roll', 'high', 'school', 'hold', 'special', 'place', 'heart', 'introduc', 'ramon', 'young', 'band', 'mid', '70', 'heyday', 'awar', 'although', 'older', 'cousin', 'big', 'fan', 'time', 'final', 'saw', 'rnrh', 'televis', 'one', 'afternoon', 'mid', '80', 'fifteen', 'year', 'old', 'laugh', 'way', 'everi', 'high', 'school', 'kid', 'dream', 'trash', 'school', 'blow', 'set', 'rockin', 'soundtrack', 'record', 'subsequ', 'air', 'film', 'year', 'two', 'later', 'kept', 'watch', 'ramon', 'concert', 'sequenc', 'think', 'man', 'guy', 'kick', 'ass', 'check', 'album', 'rest', 'histori', 'twenti', 'year', 'umpteen', 'ramon', 'lp', 'cassett', 'cd', 'three', 'ramon', 'show', 'later', 'still', 'one', 'time', 'favorit', 'band', 'rnrh', 'still', 'crack', 'everi', 'time', 'watch', 'joey', 'dee', 'dee', 'johnni', 'left', 'us', 'r', 'p', 'least', 'movi', 'ton', 'great', 'music', 'rememb']\n"
     ]
    }
   ],
   "source": [
    "# TODO: Apply review_to_words to a review (train_X[100] or any other review)\n",
    "print(review_to_words(train_X[100]))"
   ]
  },
  {
   "cell_type": "markdown",
   "metadata": {},
   "source": [
    "**Question:** Above we mentioned that `review_to_words` method removes html formatting and allows us to tokenize the words found in a review, for example, converting *entertained* and *entertaining* into *entertain* so that they are treated as though they are the same word. What else, if anything, does this method do to the input?"
   ]
  },
  {
   "cell_type": "markdown",
   "metadata": {},
   "source": [
    "**Answer:**\n",
    "Converts words to lowercase, remove stopwords, split text into individual strings. "
   ]
  },
  {
   "cell_type": "markdown",
   "metadata": {},
   "source": [
    "The method below applies the `review_to_words` method to each of the reviews in the training and testing datasets. In addition it caches the results. This is because performing this processing step can take a long time. This way if you are unable to complete the notebook in the current session, you can come back without needing to process the data a second time."
   ]
  },
  {
   "cell_type": "code",
   "execution_count": 9,
   "metadata": {},
   "outputs": [],
   "source": [
    "import pickle\n",
    "\n",
    "cache_dir = os.path.join(\"../cache\", \"sentiment_analysis\")  # where to store cache files\n",
    "os.makedirs(cache_dir, exist_ok=True)  # ensure cache directory exists\n",
    "\n",
    "def preprocess_data(data_train, data_test, labels_train, labels_test,\n",
    "                    cache_dir=cache_dir, cache_file=\"preprocessed_data.pkl\"):\n",
    "    \"\"\"Convert each review to words; read from cache if available.\"\"\"\n",
    "\n",
    "    # If cache_file is not None, try to read from it first\n",
    "    cache_data = None\n",
    "    if cache_file is not None:\n",
    "        try:\n",
    "            with open(os.path.join(cache_dir, cache_file), \"rb\") as f:\n",
    "                cache_data = pickle.load(f)\n",
    "            print(\"Read preprocessed data from cache file:\", cache_file)\n",
    "        except:\n",
    "            pass  # unable to read from cache, but that's okay\n",
    "    \n",
    "    # If cache is missing, then do the heavy lifting\n",
    "    if cache_data is None:\n",
    "        # Preprocess training and test data to obtain words for each review\n",
    "        #words_train = list(map(review_to_words, data_train))\n",
    "        #words_test = list(map(review_to_words, data_test))\n",
    "        words_train = [review_to_words(review) for review in data_train]\n",
    "        words_test = [review_to_words(review) for review in data_test]\n",
    "        \n",
    "        # Write to cache file for future runs\n",
    "        if cache_file is not None:\n",
    "            cache_data = dict(words_train=words_train, words_test=words_test,\n",
    "                              labels_train=labels_train, labels_test=labels_test)\n",
    "            with open(os.path.join(cache_dir, cache_file), \"wb\") as f:\n",
    "                pickle.dump(cache_data, f)\n",
    "            print(\"Wrote preprocessed data to cache file:\", cache_file)\n",
    "    else:\n",
    "        # Unpack data loaded from cache file\n",
    "        words_train, words_test, labels_train, labels_test = (cache_data['words_train'],\n",
    "                cache_data['words_test'], cache_data['labels_train'], cache_data['labels_test'])\n",
    "    \n",
    "    return words_train, words_test, labels_train, labels_test"
   ]
  },
  {
   "cell_type": "code",
   "execution_count": 10,
   "metadata": {},
   "outputs": [
    {
     "name": "stdout",
     "output_type": "stream",
     "text": [
      "Read preprocessed data from cache file: preprocessed_data.pkl\n"
     ]
    }
   ],
   "source": [
    "# Preprocess data\n",
    "train_X, test_X, train_y, test_y = preprocess_data(train_X, test_X, train_y, test_y)"
   ]
  },
  {
   "cell_type": "markdown",
   "metadata": {},
   "source": [
    "## Transform the data\n",
    "\n",
    "In the XGBoost notebook we transformed the data from its word representation to a bag-of-words feature representation. For the model we are going to construct in this notebook we will construct a feature representation which is very similar. To start, we will represent each word as an integer. Of course, some of the words that appear in the reviews occur very infrequently and so likely don't contain much information for the purposes of sentiment analysis. The way we will deal with this problem is that we will fix the size of our working vocabulary and we will only include the words that appear most frequently. We will then combine all of the infrequent words into a single category and, in our case, we will label it as `1`.\n",
    "\n",
    "Since we will be using a recurrent neural network, it will be convenient if the length of each review is the same. To do this, we will fix a size for our reviews and then pad short reviews with the category 'no word' (which we will label `0`) and truncate long reviews."
   ]
  },
  {
   "cell_type": "markdown",
   "metadata": {},
   "source": [
    "### (TODO) Create a word dictionary\n",
    "\n",
    "To begin with, we need to construct a way to map words that appear in the reviews to integers. Here we fix the size of our vocabulary (including the 'no word' and 'infrequent' categories) to be `5000` but you may wish to change this to see how it affects the model.\n",
    "\n",
    "> **TODO:** Complete the implementation for the `build_dict()` method below. Note that even though the vocab_size is set to `5000`, we only want to construct a mapping for the most frequently appearing `4998` words. This is because we want to reserve the special labels `0` for 'no word' and `1` for 'infrequent word'."
   ]
  },
  {
   "cell_type": "code",
   "execution_count": 11,
   "metadata": {},
   "outputs": [],
   "source": [
    "from collections import Counter\n",
    "import numpy as np\n",
    "\n",
    "def build_dict(data, vocab_size = 5000):\n",
    "    \"\"\"Construct and return a dictionary mapping each of the most frequently appearing words to a unique integer.\"\"\"\n",
    "    \n",
    "    # TODO: Determine how often each word appears in `data`. Note that `data` is a list of sentences and that a\n",
    "    #       sentence is a list of words.\n",
    "    \n",
    "    word_count = {} # A dict storing the words that appear in the reviews along with how often they occur\n",
    "    \n",
    "    # TODO: Sort the words found in `data` so that sorted_words[0] is the most frequently appearing word and\n",
    "    #       sorted_words[-1] is the least frequently appearing word.\n",
    "    \n",
    "    for review in data:\n",
    "        for word in review:\n",
    "            if word in word_count:\n",
    "                word_count[word] += 1  \n",
    "            else:\n",
    "                word_count[word] = 1\n",
    "    \n",
    "    sorted_words_flipped = sorted(word_count.items(), reverse = True, key = lambda x: x[1])\n",
    "    \n",
    "    sorted_words = [word for word, val in sorted_words_flipped]\n",
    "    \n",
    "    sorted_words_flipped = None\n",
    "    \n",
    "    word_dict = {} # This is what we are building, a dictionary that translates words into integers\n",
    "    for idx, word in enumerate(sorted_words[:vocab_size - 2]): # The -2 is so that we save room for the 'no word'\n",
    "        word_dict[word] = idx + 2                              # 'infrequent' labels\n",
    "        \n",
    "    return word_dict"
   ]
  },
  {
   "cell_type": "code",
   "execution_count": 12,
   "metadata": {
    "scrolled": true
   },
   "outputs": [],
   "source": [
    "word_dict = build_dict(train_X)\n"
   ]
  },
  {
   "cell_type": "markdown",
   "metadata": {},
   "source": [
    "**Question:** What are the five most frequently appearing (tokenized) words in the training set? Does it makes sense that these words appear frequently in the training set?"
   ]
  },
  {
   "cell_type": "markdown",
   "metadata": {},
   "source": [
    "**Answer:**"
   ]
  },
  {
   "cell_type": "code",
   "execution_count": 13,
   "metadata": {},
   "outputs": [
    {
     "data": {
      "text/plain": [
       "dict_keys(['movi', 'film', 'one', 'like', 'time', 'good', 'make', 'charact', 'get', 'see', 'watch', 'stori', 'even', 'would', 'realli', 'well', 'scene', 'look', 'show', 'much', 'end', 'peopl', 'bad', 'go', 'great', 'also', 'first', 'love', 'think', 'way', 'act', 'play', 'made', 'thing', 'could', 'know', 'say', 'seem', 'work', 'plot', 'two', 'actor', 'year', 'come', 'mani', 'seen', 'take', 'want', 'life', 'never', 'littl', 'best', 'tri', 'man', 'ever', 'give', 'better', 'still', 'perform', 'find', 'feel', 'part', 'back', 'use', 'someth', 'director', 'actual', 'interest', 'lot', 'real', 'old', 'cast', 'though', 'live', 'star', 'enjoy', 'guy', 'anoth', 'new', 'role', 'noth', '10', 'funni', 'music', 'point', 'start', 'set', 'girl', 'origin', 'day', 'world', 'everi', 'believ', 'turn', 'quit', 'direct', 'us', 'thought', 'fact', 'minut', 'horror', 'kill', 'action', 'comedi', 'pretti', 'young', 'wonder', 'happen', 'around', 'got', 'effect', 'right', 'long', 'howev', 'big', 'line', 'famili', 'enough', 'seri', 'may', 'need', 'fan', 'bit', 'script', 'beauti', 'person', 'becom', 'without', 'must', 'alway', 'friend', 'tell', 'reason', 'saw', 'last', 'final', 'kid', 'almost', 'put', 'least', 'sure', 'done', 'whole', 'place', 'complet', 'kind', 'expect', 'differ', 'shot', 'far', 'mean', 'anyth', 'book', 'laugh', 'might', 'name', 'sinc', 'begin', '2', 'probabl', 'woman', 'help', 'entertain', 'let', 'screen', 'call', 'tv', 'moment', 'away', 'read', 'yet', 'rather', 'worst', 'run', 'fun', 'lead', 'hard', 'audienc', 'idea', 'anyon', 'episod', 'american', 'found', 'appear', 'bore', 'especi', 'although', 'hope', 'keep', 'cours', 'anim', 'job', 'goe', 'move', 'sens', 'version', 'dvd', 'war', 'money', 'someon', 'mind', 'mayb', 'problem', 'true', 'hous', 'everyth', 'nice', 'second', 'rate', 'three', 'night', 'follow', 'face', 'recommend', 'product', 'main', 'worth', 'leav', 'human', 'special', 'excel', 'togeth', 'wast', 'everyon', 'sound', 'john', 'hand', '1', 'father', 'later', 'eye', 'said', 'view', 'instead', 'review', 'boy', 'high', 'hour', 'miss', 'classic', 'talk', 'wife', 'understand', 'left', 'care', 'black', 'death', 'open', 'murder', 'write', 'half', 'head', 'rememb', 'chang', 'viewer', 'fight', 'gener', 'surpris', 'short', 'includ', 'die', 'fall', 'less', 'els', 'entir', 'piec', 'involv', 'pictur', 'simpli', 'power', 'home', 'top', 'total', 'usual', 'budget', 'attempt', 'suppos', 'releas', 'hollywood', 'terribl', 'song', 'men', 'possibl', 'featur', 'portray', 'disappoint', 'poor', '3', 'coupl', 'stupid', 'camera', 'dead', 'wrong', 'low', 'produc', 'video', 'either', 'aw', 'definit', 'except', 'rest', 'given', 'absolut', 'women', 'lack', 'word', 'writer', 'titl', 'talent', 'decid', 'full', 'perfect', 'along', 'style', 'close', 'truli', 'school', 'save', 'emot', 'age', 'sex', 'next', 'bring', 'mr', 'case', 'killer', 'heart', 'comment', 'sort', 'creat', 'perhap', 'came', 'brother', 'sever', 'joke', 'art', 'dialogu', 'game', 'small', 'base', 'flick', 'written', 'sequenc', 'meet', 'earli', 'often', 'other', 'mother', 'develop', 'humor', 'actress', 'consid', 'dark', 'guess', 'amaz', 'unfortun', 'lost', 'light', 'exampl', 'cinema', 'drama', 'ye', 'white', 'experi', 'imagin', 'mention', 'stop', 'natur', 'forc', 'manag', 'felt', 'cut', 'present', 'children', 'fail', 'son', 'support', 'qualiti', 'car', 'ask', 'hit', 'side', 'voic', 'extrem', 'impress', 'evil', 'wors', 'went', 'stand', 'certainli', 'basic', 'oh', 'overal', 'favorit', 'horribl', 'mysteri', 'number', 'type', 'danc', 'wait', 'hero', 'alreadi', '5', 'learn', 'matter', '4', 'michael', 'genr', 'fine', 'despit', 'throughout', 'walk', 'success', 'histori', 'question', 'zombi', 'town', 'relationship', 'realiz', 'child', 'past', 'daughter', 'late', 'b', 'wish', 'credit', 'hate', 'event', 'theme', 'touch', 'citi', 'today', 'sometim', 'behind', 'god', 'twist', 'sit', 'annoy', 'deal', 'stay', 'abl', 'rent', 'pleas', 'edit', 'blood', 'deserv', 'comic', 'anyway', 'appar', 'soon', 'gave', 'etc', 'level', 'slow', 'chanc', 'score', 'bodi', 'brilliant', 'incred', 'figur', 'situat', 'self', 'major', 'stuff', 'decent', 'element', 'return', 'dream', 'obvious', 'order', 'continu', 'pace', 'ridicul', 'happi', 'group', 'add', 'highli', 'thank', 'ladi', 'novel', 'speak', 'pain', 'career', 'shoot', 'strang', 'heard', 'sad', 'husband', 'polic', 'import', 'break', 'took', 'strong', 'cannot', 'predict', 'robert', 'violenc', 'hilari', 'recent', 'countri', 'known', 'particularli', 'pick', 'documentari', 'season', 'critic', 'jame', 'compar', 'obviou', 'alon', 'told', 'state', 'visual', 'rock', 'theater', 'offer', 'exist', 'opinion', 'gore', 'crap', 'hold', 'result', 'room', 'realiti', 'hear', 'clich', 'effort', 'thriller', 'caus', 'serious', 'sequel', 'explain', 'king', 'local', 'ago', 'hell', 'none', 'note', 'allow', 'david', 'sister', 'simpl', 'femal', 'deliv', 'ok', 'class', 'convinc', 'check', 'suspens', 'win', 'buy', 'oscar', 'huge', 'valu', 'sexual', 'scari', 'cool', 'excit', 'similar', 'provid', 'exactli', 'apart', 'shown', 'avoid', 'seriou', 'english', 'whose', 'taken', 'cinematographi', 'shock', 'polit', 'spoiler', 'offic', 'across', 'middl', 'pass', 'street', 'messag', 'silli', 'somewhat', 'charm', 'modern', 'filmmak', 'confus', 'form', 'tale', 'singl', 'jack', 'mostli', 'attent', 'carri', 'william', 'sing', 'subject', 'five', 'richard', 'prove', 'stage', 'team', 'cop', 'unlik', 'georg', 'monster', 'televis', 'earth', 'cover', 'villain', 'pay', 'marri', 'toward', 'build', 'parent', 'pull', 'due', 'respect', 'fill', 'dialog', 'four', 'remind', 'futur', 'weak', 'typic', '7', 'cheap', 'intellig', 'british', 'atmospher', 'clearli', '80', 'non', 'paul', 'dog', 'knew', '8', 'artist', 'fast', 'crime', 'easili', 'escap', 'doubt', 'adult', 'detail', 'date', 'romant', 'member', 'fire', 'gun', 'drive', 'straight', 'fit', 'beyond', 'attack', 'imag', 'upon', 'posit', 'whether', 'peter', 'fantast', 'aspect', 'appreci', 'captur', 'ten', 'plan', 'discov', 'remain', 'near', 'period', 'realist', 'air', 'mark', 'red', 'dull', 'adapt', 'within', 'spend', 'lose', 'color', 'materi', 'chase', 'mari', 'storylin', 'forget', 'bunch', 'clear', 'lee', 'victim', 'nearli', 'box', 'york', 'match', 'inspir', 'finish', 'mess', 'standard', 'easi', 'truth', 'busi', 'suffer', 'dramat', 'bill', 'space', 'western', 'e', 'list', 'battl', 'notic', 'de', 'french', 'ad', '9', 'tom', 'larg', 'among', 'eventu', 'train', 'accept', 'agre', 'soundtrack', 'spirit', 'third', 'teenag', 'soldier', 'adventur', 'famou', 'sorri', 'drug', 'suggest', 'normal', 'babi', 'cri', 'ultim', 'troubl', 'contain', 'certain', 'cultur', 'romanc', 'rare', 'lame', 'somehow', 'disney', 'mix', 'gone', 'cartoon', 'student', 'fear', 'reveal', 'suck', 'kept', 'attract', 'appeal', 'premis', 'secret', 'greatest', 'design', 'shame', 'throw', 'copi', 'scare', 'wit', 'admit', 'america', 'relat', 'particular', 'brought', 'screenplay', 'whatev', 'pure', '70', 'averag', 'harri', 'master', 'describ', 'treat', 'male', '20', 'issu', 'fantasi', 'warn', 'inde', 'forward', 'background', 'project', 'free', 'japanes', 'memor', 'poorli', 'award', 'locat', 'amus', 'potenti', 'struggl', 'weird', 'magic', 'societi', 'okay', 'imdb', 'doctor', 'accent', 'hot', 'water', 'express', 'dr', '30', 'alien', 'odd', 'crazi', 'choic', 'fiction', 'studio', 'control', 'becam', 'masterpiec', 'fli', 'difficult', 'joe', 'scream', 'costum', 'lover', 'uniqu', 'refer', 'remak', 'girlfriend', 'vampir', 'prison', 'execut', 'wear', 'jump', 'wood', 'unless', 'creepi', 'cheesi', 'superb', 'otherwis', 'parti', 'roll', 'ghost', 'mad', 'public', 'depict', 'moral', 'earlier', 'week', 'jane', 'badli', 'fi', 'dumb', 'flaw', 'grow', 'sci', 'deep', 'cat', 'maker', 'older', 'footag', 'connect', 'plenti', 'bother', 'outsid', 'stick', 'gay', 'catch', 'co', 'plu', 'popular', 'equal', 'social', 'quickli', 'disturb', 'perfectli', 'dress', 'era', '90', 'mistak', 'lie', 'ride', 'previou', 'combin', 'band', 'concept', 'rich', 'answer', 'surviv', 'front', 'christma', 'sweet', 'insid', 'bare', 'concern', 'eat', 'listen', 'beat', 'ben', 'c', 'term', 'serv', 'meant', 'la', 'german', 'stereotyp', 'hardli', 'innoc', 'law', 'desper', 'promis', 'memori', 'intent', 'cute', 'steal', 'inform', 'variou', 'brain', 'post', 'tone', 'island', 'amount', 'track', 'compani', 'nuditi', 'claim', 'store', 'flat', 'hair', '50', 'univers', 'land', 'fairli', 'kick', 'danger', 'scott', 'player', 'plain', 'step', 'crew', 'toni', 'share', 'tast', 'centuri', 'achiev', 'engag', 'cold', 'travel', 'rip', 'suit', 'record', 'manner', 'sadli', 'tension', 'wrote', 'spot', 'fascin', 'intens', 'familiar', 'burn', 'depth', 'remark', 'destroy', 'histor', 'sleep', 'purpos', 'languag', 'ignor', 'ruin', 'delight', 'unbeliev', 'italian', 'soul', 'collect', 'abil', 'clever', 'detect', 'violent', 'rape', 'reach', 'door', 'liter', 'scienc', 'trash', 'caught', 'commun', 'reveng', 'creatur', 'trip', 'approach', 'fashion', 'intrigu', 'skill', 'paint', 'introduc', 'complex', 'channel', 'camp', 'christian', 'hole', 'extra', 'ann', 'mental', 'limit', 'immedi', 'mere', 'comput', 'slightli', 'million', '6', 'conclus', 'slasher', 'suddenli', 'imposs', 'crimin', 'neither', 'teen', 'spent', 'nation', 'physic', 'respons', 'planet', 'receiv', 'fake', 'sick', 'blue', 'bizarr', 'embarrass', 'indian', '15', 'ring', 'pop', 'drop', 'drag', 'haunt', 'pointless', 'suspect', 'edg', 'search', 'handl', 'common', 'biggest', 'arriv', 'hurt', 'faith', 'technic', 'angel', 'genuin', 'dad', 'solid', 'f', 'awesom', 'colleg', 'focu', 'former', 'van', 'count', 'tear', 'heavi', 'wall', 'rais', 'visit', 'younger', 'laughabl', 'excus', 'sign', 'fair', 'cult', 'tough', 'key', 'motion', 'super', 'desir', 'stun', 'addit', 'exploit', 'cloth', 'tortur', 'smith', 'race', 'davi', 'author', 'cross', 'jim', 'compel', 'minor', 'consist', 'focus', 'pathet', 'commit', 'chemistri', 'park', 'frank', 'obsess', 'tradit', 'grade', 'asid', '60', 'brutal', 'somewher', 'steve', 'depress', 'explor', 'opportun', 'grant', 'u', 'rule', 'honest', 'besid', 'dub', 'anti', 'intend', 'trailer', 'bar', 'longer', 'regard', 'west', 'scientist', 'decad', 'judg', 'silent', 'armi', 'creativ', 'wild', 'g', 'stewart', 'south', 'draw', 'road', 'govern', 'ex', 'boss', 'practic', 'club', 'surprisingli', 'festiv', 'gang', 'motiv', 'page', 'green', 'redeem', 'london', 'idiot', 'display', 'militari', 'machin', 'aliv', 'repeat', 'thrill', 'nobodi', 'yeah', 'folk', '100', '40', 'garbag', 'journey', 'ground', 'smile', 'tire', 'mood', 'bought', 'cost', 'sam', 'stone', 'mouth', 'noir', 'agent', 'terrif', 'requir', 'utterli', 'honestli', 'area', 'sexi', 'report', 'geniu', 'investig', 'glad', 'humour', 'enter', 'serial', 'narr', 'occasion', 'passion', 'climax', 'marriag', 'industri', 'studi', 'center', 'ship', 'nowher', 'demon', 'charli', 'bear', 'hors', 'loos', 'hang', 'wow', 'graphic', 'giant', 'admir', 'send', 'damn', 'loud', 'nake', 'profession', 'subtl', 'rel', 'blow', 'bottom', 'insult', 'batman', 'doubl', 'boyfriend', 'kelli', 'r', 'initi', 'frame', 'opera', 'gem', 'cinemat', 'church', 'drawn', 'affect', 'challeng', 'seek', 'j', 'fulli', 'l', 'nightmar', 'evid', 'arm', 'essenti', 'conflict', 'henri', 'christoph', 'grace', 'wind', 'witch', 'assum', 'narrat', 'hunt', 'push', 'wise', 'chri', 'month', 'nomin', 'repres', 'sceneri', 'avail', 'affair', 'hide', 'justic', 'smart', 'bond', 'thu', 'flashback', 'interview', 'outstand', 'satisfi', 'presenc', 'constantli', 'central', 'bed', 'content', 'sell', 'iron', 'everybodi', 'gag', 'slowli', 'hotel', 'hire', 'system', 'thrown', 'hey', 'adam', 'charl', 'individu', 'mediocr', 'jone', 'allen', 'billi', 'lesson', 'ray', 'photographi', 'cameo', 'pari', 'fellow', 'strike', 'absurd', 'brief', 'rise', 'independ', 'neg', 'phone', 'impact', 'ill', 'born', 'model', 'spoil', 'fresh', 'angl', 'abus', 'likabl', 'discuss', 'hill', 'ahead', 'sight', 'sent', 'photograph', 'occur', 'shine', 'blame', 'logic', 'mainli', 'bruce', 'forev', 'skip', 'commerci', 'surround', 'held', 'teacher', 'segment', 'zero', 'blond', 'trap', 'satir', 'resembl', 'summer', 'queen', 'ball', 'fool', 'six', 'twice', 'sub', 'tragedi', 'pack', 'reaction', 'bomb', 'protagonist', 'hospit', 'will', 'mile', 'sport', 'jerri', 'trust', 'vote', 'drink', 'mom', 'encount', 'plane', 'program', 'current', 'station', 'al', 'celebr', 'choos', 'martin', 'join', 'field', 'favourit', 'round', 'lord', 'tragic', 'jean', 'robot', 'vision', 'tie', 'arthur', 'random', 'fortun', 'roger', 'dread', 'psycholog', 'intern', 'prefer', 'epic', 'improv', 'nonsens', 'highlight', 'legend', 'formula', 'pleasur', 'dollar', 'tape', '11', 'porn', 'fox', 'object', 'wide', 'thin', 'gorgeou', 'buddi', 'ugli', 'influenc', 'prepar', 'ii', 'nasti', 'warm', 'reflect', 'progress', 'supposedli', 'worthi', 'youth', 'unusu', 'latter', 'length', 'crash', 'childhood', 'superior', 'shop', 'seven', 'theatr', 'remot', 'funniest', 'paid', 'disgust', 'pilot', 'castl', 'convers', 'fell', 'trick', 'rob', 'disast', 'gangster', 'establish', 'heaven', 'mine', 'suicid', 'disappear', 'ident', 'heroin', 'forgotten', 'tend', 'decis', 'mask', 'singer', 'brian', 'partner', 'desert', 'recogn', 'alan', 'sky', 'thoroughli', 'stuck', 'p', 'ms', 'replac', 'accur', 'market', 'uncl', 'andi', 'clue', 'seemingli', 'commentari', 'danni', 'eddi', 'devil', 'jackson', 'that', 'therefor', 'refus', 'pair', 'fate', 'river', 'fault', 'accid', 'unit', 'ed', 'afraid', 'tune', 'hidden', 'stephen', 'clean', 'russian', 'captain', 'instanc', 'readi', 'quick', 'irrit', 'test', 'convey', 'european', 'daniel', 'insan', 'frustrat', 'chines', 'rescu', 'wed', 'food', '1950', 'angri', 'dirti', 'lock', 'joy', 'steven', 'price', 'cage', 'bland', 'anymor', 'rang', 'wooden', 'rush', 'n', 'news', 'jason', 'martial', '12', 'board', 'twenti', 'worri', 'led', 'cgi', 'transform', 'hunter', 'symbol', 'onto', 'x', 'invent', 'piti', 'sentiment', 'johnni', 'process', 'attitud', 'explan', 'owner', 'awar', 'aim', 'target', 'necessari', 'floor', 'energi', 'favor', 'religi', 'opposit', 'insight', 'blind', 'window', 'chick', 'movement', 'mountain', 'research', 'deepli', 'comparison', 'possess', 'comed', 'grand', 'rain', 'whatsoev', 'shadow', 'bank', 'mid', 'began', 'princ', 'parodi', 'credibl', 'weapon', 'pre', 'friendship', 'taylor', 'dougla', 'flesh', 'teach', 'bloodi', 'terror', 'protect', 'hint', 'marvel', 'anybodi', 'accord', 'drunk', 'leader', 'load', 'superman', 'watchabl', 'brown', 'freddi', 'seat', 'hitler', 'appropri', 'jeff', 'tim', 'unknown', 'knock', 'charg', 'villag', 'keaton', 'media', 'unnecessari', 'enemi', 'empti', 'england', 'buck', 'dare', 'utter', 'craft', 'wave', 'perspect', 'strength', 'ford', 'correct', 'kiss', 'contrast', 'nativ', 'nazi', 'knowledg', 'distract', 'chill', 'anywher', 'speed', 'magnific', 'soap', 'ice', 'breath', '1980', 'mission', 'fred', 'moon', 'jr', 'crowd', 'joan', 'frighten', 'soft', '000', 'kate', 'hundr', 'nick', 'dick', 'dan', 'simon', 'radio', 'dozen', 'somebodi', 'loss', 'academi', 'thousand', 'andrew', 'shakespear', 'sum', 'vehicl', 'account', 'root', 'quot', 'leg', '1970', 'behavior', 'convent', 'regular', 'gold', 'compet', 'worker', 'pretenti', 'demand', 'privat', 'lynch', 'japan', 'interpret', 'explos', 'notabl', 'candi', 'stretch', 'debut', 'tarzan', 'constant', 'revolv', 'translat', 'prais', 'spi', 'sea', 'franc', 'ass', 'threaten', 'failur', 'quiet', 'jesu', 'sat', 'technolog', 'higher', 'punch', 'aid', 'toy', 'met', 'kevin', 'vh', 'abandon', 'interact', 'mike', 'confront', 'separ', 'bet', 'command', 'belong', 'servic', 'gotten', 'site', 'recal', 'techniqu', 'stunt', 'foot', 'bug', 'freak', 'cabl', 'jimmi', 'bright', 'fu', 'capabl', 'african', 'stock', 'presid', 'fat', 'clark', 'succeed', 'boat', 'structur', 'gene', 'spanish', 'paper', 'kidnap', 'factor', 'belief', 'whilst', 'realis', 'educ', 'tree', 'bob', 'realism', 'attend', 'witti', 'complic', 'finest', 'broken', 'santa', 'assist', 'depart', 'up', 'smoke', 'determin', 'v', 'observ', 'fame', 'lewi', 'routin', 'hat', 'oper', 'domin', 'rubbish', 'hook', 'advanc', 'foreign', 'morgan', 'lone', 'safe', 'kinda', 'numer', 'rank', 'civil', 'washington', 'shape', 'vs', 'shallow', 'rose', 'werewolf', 'gari', 'morn', 'winner', 'ordinari', 'accomplish', 'kong', 'whenev', 'grab', 'peac', 'virtual', 'offens', 'h', 'luck', 'complain', 'contriv', 'activ', 'patient', 'bigger', 'unfunni', 'welcom', 'pretend', 'con', 'dimension', 'trek', 'flash', 'wake', 'dri', 'lesbian', 'eric', 'cain', 'code', 'corrupt', 'guard', 'dancer', 'statu', 'manipul', 'albert', 'signific', 'awkward', 'gain', 'sourc', 'speech', 'context', 'clip', '13', 'psycho', 'anthoni', 'corni', 'sean', 'w', 'reli', 'religion', 'theatric', 'priest', 'advic', 'curiou', 'flow', 'addict', 'secur', 'skin', 'specif', 'asian', 'jennif', 'howard', 'promot', 'core', 'golden', 'organ', 'comfort', 'luke', 'cheat', 'lucki', 'cash', 'associ', 'dislik', 'lower', 'spell', 'regret', 'wing', 'devic', 'frankli', 'frequent', 'balanc', 'contribut', 'degre', 'print', 'lake', 'forgiv', 'sake', 'thoma', 'mass', 'betti', 'gordon', 'unexpect', 'crack', 'categori', 'depend', 'unfold', 'amateur', 'construct', 'grown', 'invit', 'grew', 'condit', 'walter', 'intellectu', 'matur', 'honor', 'anna', 'mirror', 'spectacular', 'sudden', 'veteran', 'sole', 'overli', 'robin', 'gift', 'card', 'meanwhil', 'freedom', 'experienc', 'liner', 'grip', 'demonstr', 'theori', 'unabl', 'subtitl', 'crappi', 'colour', 'oliv', 'section', 'circumst', 'brilliantli', 'sheriff', 'drew', 'cook', 'pile', 'laughter', 'path', 'sheer', 'parker', 'matt', 'altern', 'relief', 'hall', 'defin', 'wander', 'treatment', 'accident', 'lawyer', 'sinatra', 'dragon', 'captiv', 'hank', 'halloween', 'gratuit', 'moor', 'wound', 'unintent', 'barbara', 'kung', 'k', 'broadway', 'cowboy', 'jacki', 'wayn', 'canadian', 'winter', 'surreal', 'spoof', 'statement', 'treasur', 'gonna', 'fare', 'cheer', 'compos', 'fish', 'sensit', 'unrealist', 'victor', 'emerg', 'woodi', 'driven', 'neighbor', 'ran', 'sympathet', 'expos', 'authent', 'menac', 'overlook', 'glass', 'topic', 'gross', 'handsom', 'ancient', 'michel', 'chief', 'contemporari', 'pleasant', 'comedian', 'network', 'built', 'russel', 'stranger', 'nevertheless', 'feet', 'cinderella', 'miser', 'endless', 'blockbust', 'consider', 'earn', 'gori', 'underr', 'letter', 'solv', 'switch', 'brook', 'convict', 'edward', 'joseph', 'bullet', 'victoria', 'virgin', 'chosen', 'cynic', '0', 'scenario', 'scale', 'alex', 'com', 'outrag', 'curs', 'gut', 'sword', 'driver', 'substanc', 'screenwrit', 'proper', 'juli', 'wrap', 'monkey', 'uk', 'bird', 'indic', 'remov', 'court', 'par', 'consequ', 'naiv', 'advertis', 'loser', 'rental', 'grave', 'inevit', 'roy', 'nanci', 'slap', 'brave', 'fatal', 'germani', 'bridg', 'le', 'invis', 'loui', 'provok', 'footbal', 'anger', 'ador', 'alcohol', 'anderson', 'chan', 'ryan', 'stumbl', 'professor', 'willi', 'assassin', 'bat', 'patrick', 'sharp', '1930', 'australian', 'cell', 'amateurish', 'trilog', 'refresh', 'lousi', 'saturday', 'eight', 'deni', 'liber', 'heck', 'strongli', 'ape', 'sin', 'justifi', 'vagu', 'san', 'resid', 'reput', 'indi', 'sympathi', 'terrifi', 'creator', 'defeat', 'mini', 'tabl', 'prevent', 'expert', 'endur', 'tediou', 'task', 'offend', 'basebal', 'trial', 'che', 'rival', 'imit', 'employ', 'max', 'europ', 'complaint', 'fairi', 'weekend', 'dig', 'beach', 'pitch', 'murphi', 'purchas', 'format', 'risk', 'tini', 'nois', 'harsh', 'titan', 'hype', 'reminisc', 'powel', 'bite', 'glimps', 'asleep', 'prime', 'north', 'strip', '14', 'fals', 'till', 'descript', 'texa', 'revel', 'destruct', 'africa', 'spin', 'excess', 'semi', 'surfac', 'arrest', 'inner', 'sitcom', 'uninterest', 'twin', 'dinosaur', 'hitchcock', 'massiv', 'makeup', 'controversi', 'maintain', 'argu', 'ideal', 'ludicr', 'expens', 'reject', 'melodrama', 'stare', 'insist', 'kim', 'ala', 'forest', 'supernatur', 'nail', 'host', 'ga', 'erot', 'atroci', 'subplot', 'press', 'columbo', 'dude', 'presum', 'cant', 'identifi', 'notch', 'guest', 'closer', 'crude', 'character', 'method', 'plagu', 'forgett', 'beast', 'foster', 'border', 'princess', 'landscap', 'ear', 'lion', 'storytel', 'urban', 'bound', 'jungl', 'accus', 'previous', 'aunt', 'damag', 'pacino', 'birth', 'propaganda', 'chose', 'guid', 'doll', 'nude', 'jess', 'thirti', 'emma', 'mainstream', '25', 'mate', 'pet', 'whoever', 'warrior', 'size', 'latest', 'merit', 'exact', 'deadli', 'upset', 'cooper', 'poster', 'gritti', 'friday', 'ton', 'sun', 'wilson', 'citizen', 'popul', 'warner', 'buff', 'contest', 'blend', '1990', 'settl', 'corps', 'rough', 'contact', 'select', 'bu', 'widow', 'alic', 'mgm', 'metal', 'environ', 'rat', 'overcom', 'pitt', 'lift', 'ted', 'guilti', 'particip', 'revolut', 'link', 'johnson', 'exagger', 'moron', 'accompani', 'prostitut', 'afternoon', 'corner', '1960', 'matrix', 'corpor', 'hood', 'leagu', 'doom', 'sincer', 'friendli', 'multipl', 'holm', 'instal', 'clair', 'aka', 'defend', 'sunday', 'advis', 'string', 'campi', 'grim', 'junk', 'hip', 'irish', 'examin', 'blah', 'lugosi', 'shake', 'confid', 'varieti', 'pro', 'tight', 'icon', 'shut', 'rachel', 'goal', 'jaw', 'directli', 'denni', 'mexican', 'attach', 'medic', 'sullivan', 'duke', 'prior', 'courag', 'sarah', 'legendari', 'vietnam', 'breast', 'dean', 'truck', 'terrorist', 'sentenc', 'bourn', 'proceed', 'yell', 'behav', 'entri', 'un', 'hong', 'split', 'nose', 'donald', 'lifetim', 'buri', 'stolen', 'gather', 'confess', 'unconvinc', 'forth', 'crush', 'borrow', 'jerk', 'everywher', 'concentr', 'swim', 'pan', 'spite', 'california', 'deliveri', 'julia', 'lip', 'turkey', 'flight', 'offici', 'hoffman', 'china', 'freeman', 'proud', 'reward', 'quest', 'downright', 'sink', 'worthwhil', 'inept', 'fabul', 'encourag', 'betray', 'sir', 'lazi', 'notori', 'jon', 'jail', 'fade', 'survivor', 'imageri', 'teeth', 'susan', 'cousin', 'bag', 'relev', 'retard', 'bell', 'branagh', 'storm', 'shower', 'lisa', 'toler', 'alright', 'summari', 'tremend', 'hugh', 'trade', 'finger', 'mexico', 'quirki', 'facial', 'bride', 'stab', 'shark', 'blown', 'pose', 'von', 'hyster', 'ha', 'bitter', 'larri', 'address', 'christ', 'ron', 'cruel', 'bone', 'ned', 'afterward', 'scheme', 'traci', 'distinct', 'pursu', 'tour', 'screw', 'feed', 'swear', 'thumb', 'snake', 'beg', 'chair', 'raw', 'photo', 'mechan', 'obscur', 'occas', 'stomach', 'render', 'argument', 'holiday', 'chain', 'cabin', 'southern', 'heavili', 'resist', 'gruesom', 'sidney', 'hardi', 'necessarili', 'racist', 'india', 'understood', 'satan', 'indulg', 'philip', 'stalk', 'integr', 'fourth', 'obnoxi', 'tongu', 'forgot', 'midnight', 'outfit', 'lay', 'pregnant', 'belov', 'carol', 'inhabit', 'restor', 'deeper', 'magazin', 'ticket', '17', 'slapstick', 'garden', 'shoe', 'devot', 'incid', 'brad', 'lincoln', 'benefit', 'underground', 'anticip', 'guarante', 'divorc', 'elizabeth', 'disbelief', 'sandler', 'maria', 'lili', 'amazingli', 'capit', 'cring', 'bbc', 'greater', 'explod', 'mildli', 'slave', 'creation', 'princip', 'funnier', 'extraordinari', 'halfway', 'introduct', 'lesli', 'overwhelm', 'text', 'advantag', 'wreck', 'extent', 'tap', 'punish', 'transfer', 'enhanc', 'deliber', 'dynam', 'east', 'horrif', 'jessica', 'error', 'lo', 'preview', 'plant', 'lane', 'vacat', 'basi', 'appli', 'homosexu', 'miller', 'ensu', '2000', 'miscast', 'vincent', 'sophist', 'sleazi', 'uncomfort', 'via', 'measur', 'extend', 'mansion', 'elev', 'spoken', 'reed', 'bollywood', 'steel', 'daili', 'blair', 'alter', 'goofi', 'overact', 'beer', 'conceiv', 'hippi', 'savag', 'mous', 'breathtak', 'cathol', 'stanley', 'assign', 'melt', 'fix', 'dentist', 'succe', 'everyday', 'oppos', 'properli', 'nowaday', 'subsequ', 'burt', 'inspector', 'sacrific', 'carpent', 'block', 'circl', 'massacr', 'laura', 'neck', 'christi', 'portrait', 'fallen', 'fay', 'mob', 'grey', 'concert', 'lesser', 'access', 'pool', 'seagal', 'react', 'chees', 'jewish', 'jake', 'sinist', 'relax', 'isol', 'competit', 'usa', 'lyric', 'creep', 'chop', 'spiritu', 'ironi', 'appal', 'immens', 'nine', 'nonetheless', 'suitabl', 'stink', '2006', 'showcas', 'needless', 'reduc', 'shirt', 'rage', 'spring', 'user', 'franchis', 'adopt', 'retir', 'luci', 'navi', 'sold', 'nut', 'bulli', 'bath', 'jay', 'stanwyck', 'per', 'uninspir', 'digit', 'nurs', 'asham', 'zone', 'illustr', 'sutherland', 'amongst', 'oddli', '1940', 'broadcast', 'upper', 'laid', '2001', 'stylish', 'aspir', 'throat', 'brando', 'fulfil', 'disguis', 'baker', 'nobl', 'endear', 'thief', 'impli', 'pound', 'em', 'wanna', '18', 'neighborhood', 'pride', 'wwii', 'cinematograph', 'distribut', 'shoulder', 'prop', 'bo', '16', 'rochest', 'bett', 'shift', 'dinner', 'coher', 'dawn', 'diseas', 'albeit', 'tens', 'rebel', 'snow', 'knife', 'poignant', 'forti', 'shout', 'wash', 'silenc', 'contract', 'matthau', 'function', 'surf', 'horrend', 'mindless', 'derek', 'cannib', 'chuck', 'cancel', 'proof', 'internet', 'widmark', 'height', 'instinct', 'elvira', 'heat', 'duti', 'eeri', 'silver', 'reunion', 'henc', 'repetit', 'incoher', 'musician', 'glori', 'neat', 'etern', 'innov', 'alik', 'greatli', 'pie', 'absorb', 'spielberg', 'mill', 'torn', 'elvi', 'premier', 'lovabl', 'infam', 'britain', 'blank', 'redempt', 'fbi', 'precis', 'burton', 'crisi', 'trite', 'homag', 'wealthi', 'announc', 'bang', 'diamond', 'nelson', 'horrifi', 'itali', 'racism', 'ensembl', 'flop', 'wilder', 'pat', 'parallel', 'dedic', 'happili', 'hammer', 'resolut', 'streisand', 'chaplin', 'helen', 'mar', 'cube', 'factori', 'triumph', 'conclud', 'broke', 'carter', 'plastic', 'disagre', 'oil', 'st', 'chuckl', 'weight', 'march', 'fighter', 'row', 'vega', 'climb', 'rocket', 'own', 'bush', 'lust', 'dump', 'spare', 'sensibl', 'unforgett', 'thug', 'meaning', 'enorm', 'kurt', 'wherea', 'boot', 'dane', 'mst3k', 'luca', 'engin', 'bobbi', 'caricatur', 'adequ', 'butt', 'stress', 'arnold', 'fifti', 'difficulti', 'threat', 'brand', 'dear', 'rap', 'karloff', 'fest', 'ego', 'polish', 'journalist', 'swing', 'ralph', 'flynn', 'elabor', 'secretari', 'arrog', 'hamlet', 'barri', 'homeless', 'resort', 'conspiraci', 'simpson', 'spike', 'tool', 'fanci', 'grate', 'puppet', 'unbear', 'induc', 'arrang', 'float', 'cruis', 'guilt', 'muppet', 'exercis', 'pig', 'choreograph', 'phillip', 'tribut', 'boll', 'basement', 'editor', '24', 'tower', 'stan', 'toilet', 'slip', 'item', 'medium', 'ham', 'layer', 'document', 'puzzl', 'fianc', 'file', 'babe', 'ward', 'korean', 'scarecrow', 'persona', 'catherin', 'transit', 'assur', 'denzel', 'inexplic', 'portion', 'philosoph', 'territori', 'spark', 'doc', 'glover', 'larger', 'superfici', 'orient', 'librari', 'slaughter', 'minim', 'shi', 'ban', 'owe', 'pg', 'curti', 'wolf', 'jeremi', 'walken', 'financi', 'dorothi', 'sneak', 'boredom', 'jet', 'backdrop', 'hudson', 'multi', 'whale', 'cusack', 'ambigu', 'profound', 'metaphor', 'eleph', 'hack', 'rave', 'stiff', 'implaus', 'union', 'gadget', 'elsewher', 'notion', 'ultra', 'viru', 'birthday', '2005', 'newspap', 'canada', 'squar', 'eva', 'bibl', 'reader', 'eastwood', 'urg', 'slight', 'pad', 'disc', 'distanc', 'deriv', 'afford', 'poison', 'superhero', 'hawk', '1st', 'lloyd', 'spread', 'cure', 'health', 'skit', 'essenc', 'button', 'charisma', 'drown', 'montag', 'sadist', 'heston', 'restaur', 'huh', 'peak', 'companion', 'muslim', 'maniac', 'invest', 'godfath', 'estat', 'dealt', 'scoobi', 'lab', 'fetch', 'gradual', 'servant', 'kane', 'alli', 'ritter', 'countless', 'miik', 'cup', 'subtleti', 'gothic', 'tea', 'elect', 'salli', 'heroic', 'briefli', 'electr', 'iii', 'charismat', 'bud', 'resourc', 'reel', 'admittedli', 'toss', 'grandmoth', 'wannab', 'neil', 'cole', 'ingredi', 'tender', 'nuanc', 'label', 'carrey', 'poverti', 'reev', 'mafia', 'dawson', 'gate', 'mild', 'shall', 'stood', 'stronger', 'kubrick', 'pit', 'punk', 'pauli', 'cox', 'easier', 'ian', 'smooth', 'fond', 'terri', 'smash', 'useless', 'outcom', 'astair', 'bakshi', 'burst', 'assault', 'cardboard', 'tag', 'updat', 'resolv', 'coincid', 'samurai', 'divers', 'exchang', 'rex', 'vari', 'fist', 'increasingli', '2002', 'qualifi', 'sketch', 'vulner', 'melodramat', 'insert', 'tame', 'scratch', 'suspend', 'templ', 'reynold', 'luckili', 'brillianc', 'blast', 'be', 'conveni', 'gotta', 'jami', 'fisher', 'farm', 'ambiti', 'matthew', 'meat', 'coach', 'strictli', 'walker', 'soprano', 'seventi', 'pin', 'nuclear', 'hamilton', 'instantli', 'monk', 'convolut', 'ninja', 'cave', 'clock', 'empir', 'butcher', 'grasp', 'brosnan', 'revers', 'timeless', 'kudo', 'struck', 'worthless', 'eccentr', 'recreat', 'closet', 'spooki', 'discoveri', 'joey', 'clown', 'eighti', 'norman', 'importantli', 'selfish', 'fifteen', 'partli', 'seller', 'bleak', 'communist', 'gray', 'mitchel', 'miracl', 'sidekick', 'cliff', 'evok', 'wipe', 'sloppi', 'pal', 'declar', 'inconsist', 'lifestyl', 'websit', 'chew', 'debat', 'destin', 'enthusiast', 'piano', 'farc', 'seed', 'cheek', 'superbl', 'flawless', 'aforement', 'australia', 'psychiatrist', '45', 'stoog', 'ho', 'drivel', 'abc', 'dire', 'incompet', 'dash', 'kitchen', 'pressur', 'splatter', 'directori', 'slice', 'soviet', 'bash', 'regardless', 'anni', 'emili', 'akshay', 'wick', 'wrestl', 'distant', 'chapter', 'mann', 'artifici', 'suppli', 'judi', 'seduc', 'boil', 'cagney', 'curios', 'ken', 'prize', 'lou', 'duo', 'cameron', 'increas', 'blob', 'glow', 'beaten', 'jar', 'helicopt', 'doo', 'flower', 'pleasantli', 'recov', 'cia', 'dave', 'favour', 'web', 'splendid', 'psychot', 'goldberg', 'ellen', 'combat', 'craven', 'eleg', 'perri', 'panic', 'hop', 'ranger', 'drunken', 'francisco', 'glenn', 'laurel', 'turner', 'craig', 'slightest', 'alexand', 'graduat', 'greek', '20th', 'wizard', 'plausibl', 'min', 'shortli', 'rid', 'philosophi', 'hatr', 'flip', 'gentl', 'modesti', 'falk', 'ruth', 'gandhi', 'fx', 'preciou', 'lend', 'fund', 'holi', 'ocean', 'legal', 'we', 'jealou', 'manhattan', 'dracula', 'unpleas', 'harm', 'tall', 'knight', 'futurist', 'felix', 'childish', 'ami', 'reviv', 'forbidden', 'scientif', 'bless', 'overdon', 'explicit', 'nod', 'thread', 'mock', 'digniti', 'tank', 'giallo', 'nerv', 'pirat', 'torment', 'broad', 'eve', '99', 'thick', 'unwatch', '2004', 'verhoeven', 'margaret', 'awaken', 'yesterday', 'fever', 'elderli', 'repeatedli', 'mel', 'awe', 'lean', 'automat', 'ah', 'absenc', 'roman', 'launch', 'timothi', 'acclaim', 'custom', 'bin', 'royal', 'publish', 'kay', 'uniform', 'eas', 'ambit', 'politician', 'stiller', 'rivet', 'griffith', 'romero', 'bathroom', 'darker', 'stinker', 'homicid', 'purpl', 'warren', 'crook', 'antic', 'pulp', 'tomato', 'termin', 'wallac', 'phrase', 'pierc', 'sunshin', 'transport', 'foul', 'gabriel', 'hollow', 'sixti', 'eyr', 'rambo', 'packag', 'album', 'q', 'prom', 'kenneth', 'karen', 'pray', 'revolutionari', 'horrid', 'saint', 'viciou', 'evolv', 'juvenil', 'coloni', 'brazil', 'awak', 'li', 'choreographi', 'marin', 'donna', '2003', 'contrari', 'ought', 'boast', 'dose', 'ireland', 'blade', 'candid', 'ramon', 'overr', 'option', 'twelv', 'beatti', 'conserv', 'defi', 'mummi', 'kapoor', 'nerd', 'stole', 'mildr', 'funer', 'collabor', 'confirm', 'astonish', 'natali', 'protest', 'detract', 'global', 'jazz', 'kirk', 'flame', 'altman', 'fulci', 'trio', 'bottl', 'spit', 'shade', 'audio', 'enterpris', 'destini', 'racial', 'mystic', 'yellow', 'bull', 'tommi', 'delici', 'leap', 'whip', 'nicholson', 'blake', 'neo', 'vivid', 'reunit', 'adolesc', 'threw', 'merci', 'pseudo', 'bedroom', 'harder', 'popcorn', 'meaningless', 'inherit', 'staff', 'visibl', 'altogeth', 'todd', 'swedish', 'fonda', 'enchant', 'befriend', 'roommat', 'atlanti', 'kennedi', 'voight', 'decor', 'madonna', 'suspici', 'ruthless', 'wire', 'synopsi', 'reserv', 'respond', 'moodi', 'fanat', 'crocodil', 'lawrenc', 'await', 'exhibit', 'leonard', 'bust', 'tip', 'jew', 'lemmon', 'uneven', 'edi', 'centr', 'carl', 'chao', '2007', 'clint', 'unsettl', 'bargain', 'bradi', 'bold', 'ventur', 'rural', 'audit', 'abysm', 'voyag', 'palma', 'holli', 'dimens', 'garner', 'incident', 'clumsi', 'nearbi', 'elimin', 'cuba', 'hart', 'cari', 'wealth', 'trail', 'imperson', 'poetic', 'neglect', 'versu', 'immigr', 'tiger', 'daddi', 'characterist', 'troop', 'cd', '2nd', 'mall', 'lit', 'acknowledg', 'humili', 'echo', 'timon', 'ant', 'repuls', 'saga', 'marshal', 'homer', 'celluloid', 'mickey', 'pun', 'prejudic', 'mistaken', 'solo', 'domest', 'paus', 'collaps', 'infect', 'jeffrey', 'undoubtedli', 'promin', 'sore', 'inan', 'assembl', 'inappropri', 'apolog', 'milk', 'hbo', 'harvey', '1996', 'tribe', 'interrupt', 'ginger', 'leon', 'gear', 'pant', 'chest', 'cake', 'equip', 'coat', 'coffe', 'olivi', 'solut', 'retain', 'furthermor', 'pot', 'instant', 'devast', 'brooklyn', 'trace', 'florida', 'pen', 'polanski', 'exot', 'colleagu', 'consum', 'jenni', 'aveng', 'maggi', 'primari', 'airplan', 'embrac', 'humbl', 'institut', 'highest', 'colonel', 'vulgar', 'descend', 'gender', 'wive', 'sale', 'smaller', 'linda', 'godzilla', 'poke', 'cope', 'disabl', 'principl', 'ya', 'bowl', 'strain', 'seduct', 'rick', '1999', 'illog', 'dian', 'dutch', '3rd', 'outer', 'predecessor', 'hal', 'inferior', 'mixtur', 'scope', 'vast', 'dud', 'bubbl', 'blatant', 'lol', 'gundam', 'yard', 'gloriou', 'rabbit', 'primarili', 'dive', 'cue', 'devoid', 'secondli', 'glamor', 'beneath', 'pearl', 'hideou', 'myer', 'countrysid', 'trademark', 'z', 'april', 'alfr', 'shelf', 'domino', 'et', 'arab', 'invas', 'casual', 'breed', 'alert', 'shirley', 'aggress', 'senseless', 'disjoint', 'simplist', 'streep', 'museum', 'talki', 'garbo', 'grinch', 'applaud', 'disgrac', 'illeg', 'hardcor', 'hopeless', 'robinson', 'experiment', 'boom', 'vanish', 'obtain', 'rendit', 'slide', 'mail', 'robberi', 'mayor', 'stellar', 'loyal', 'stir', 'oz', 'khan', 'defens', 'stack', 'sh', 'unhappi', 'acid', 'uwe', 'maci', 'soccer', 'declin', 'rifl', 'span', 'craze', 'spider', 'recruit', 'fri', 'counter', 'wont', 'tempt', 'tenant', 'psychic', 'blew', 'diana', 'berlin', 'amanda', 'grandfath', 'dicken', 'emphasi', 'incomprehens', 'dismiss', 'topless', 'scroog', 'hartley', 'revolt', 'wet', 'justin', 'intim', 'shed', 'porno', 'riot', 'trashi', 'bitch', 'ethnic', 'woo', 'niro', 'parad', 'lumet', 'sympath', 'faster', 'goer', 'resurrect', 'shaw', 'sibl', 'ration', 'wendi', 'ensur', 'region', 'choru', 'dealer', 'slick', 'lena', 'jonathan', 'hesit', 'rider', 'patriot', 'nephew', 'steam', 'weakest', 'feminist', 'commend', 'hopper', 'biographi', 'honesti', 'wheel', 'enlighten', '00', 'partial', 'eager', 'worm', 'gap', 'mario', 'immort', 'unreal', 'andr', 'farmer', 'ballet', 'properti', 'kingdom', 'repress', 'skull', 'composit', 'similarli', 'sappi', 'leo', 'prequel', 'confin', 'vice', 'mutant', 'sandra', 'psychopath', 'nostalg', 'safeti', 'charlott', 'owen', 'util', 'victori', 'hung', 'snap', 'wore', 'blunt', 'morri', 'franco', 'macarthur', 'farrel', 'thru', 'exit', 'valuabl', 'bow', 'dalton', 'emperor', 'rocki', 'tad', 'tail', 'strand', 'recycl', 'compens', 'del', 'whoopi', '1972', 'miseri', 'bonu', 'dust', 'cg', 'acquir', 'hyde', 'compass', 'campbel', 'pattern', 'heartbreak', 'rambl', 'montana', 'drain', 'despair', 'rope', 'latin', 'bumbl', 'snl', 'deed', 'drum', 'speci', 'kyle', 'bergman', 'nervou', 'repli', 'percept', 'olli', 'radic', 'bleed', 'gal', 'oppress', 'gimmick', 'carradin', '35', 'contempl', 'downhil', 'martian', 'da', 'rapist', 'romp', 'orson', 'mistress', 'slug', 'roth', 'chess', 'rotten', 'wacki', 'tonight', 'pour', 'airport', 'melodi', 'slash', 'arguabl', 'attorney', 'arc', 'mislead', '1983', 'champion', 'unpredict', 'pursuit', 'shelley', 'heal', 'tackl', 'dazzl', 'programm', 'stilt', 'banal', 'pervert', 'tooth', 'preach', 'belt', 'taught', 'paltrow', 'pervers', 'edgar', 'employe', 'plight', 'marti', 'raymond', 'bela', 'chicken', 'poem', 'passeng', 'cleverli', 'orang', 'vengeanc', 'vocal', 'sensat', 'duval', 'franki', 'dixon', 'graham', 'maid', 'uplift', 'closest', 'virginia', 'gambl', 'conneri', 'tiresom', 'rubi', 'mesmer', 'iran', 'quarter', '1968', 'outing', 'volum', 'mute', 'inject', 'climact', 'swallow', 'lundgren', 'gerard', 'bay', 'engross', 'clone', 'tube', 'profan', 'calm', 'suffic', 'scottish', 'habit', 'monologu', 'crystal', 'sirk', 'paranoia', 'yawn', 'numb', 'abraham', 'giggl', 'convincingli', 'whine', 'amitabh', 'extens', 'secretli', 'pokemon', 'poetri', 'grotesqu', 'underst', 'franci', 'abort', 'plod', 'bend', 'surpass', 'profess', 'dispos', 'meander', 'trend', 'backward', 'junior', 'linger', 'lowest', 'austen', 'nichola', 'fed', 'chicago', 'ethan', 'earl', 'taxi', 'richardson', 'expand', 'frankenstein', 'im', 'septemb', 'spock', 'econom', 'myth', 'catchi', 'sue', 'simplic', 'mundan', 'cannon', 'descent', 'eugen', 'household', 'rant', 'lure', 'waitress', 'spoke', 'muddl', 'instrument', 'greedi', 'tourist', 'compliment', 'stallon', 'literatur', 'hum', 'nostalgia', 'rubber', 'dysfunct', 'der', 'stale', 'damon', 'dement', 'occupi', 'furi', 'crucial', 'map', 'coast', 'firstli', 'june', 'equival', 'dictat', 'mankind', 'omen', 'molli', 'eaten', 'recognis', 'phantom', 'flee', 'phoni', 'randi', 'carel', 'deaf', 'recognit', 'bacal', 'cent', 'hello', 'duck', 'irrelev', 'lang', 'alongsid', 'insur', 'mortal', 'sissi', 'louis', 'onlin', '1973', 'drake', 'wisdom', 'distinguish', 'cyborg', 'lengthi', 'rooney', 'ashley', 'grayson', 'newli', 'twilight', 'bike', 'bump', 'likewis', 'daisi', 'heel', 'blackmail', 'loyalti', 'damm', 'dreari', 'rude', 'freez', 'labor', 'biko', 'antwon', 'reign', 'buffalo', 'exposur', 'worn', 'boxer', 'nineti', 'proce', 'inher', 'prey', 'pink', 'emphas', 'butler', 'ridden', 'provoc', 'attribut', 'approv', 'sailor', 'startl', 'unorigin', 'incorpor', 'keith', 'interior', 'barrymor', 'chronicl', 'analysi', 'baddi', 'vein', 'tunnel', 'basketbal', 'substitut', 'bunni', 'indiffer', 'mormon', 'mighti', 'unrel', 'improvis', 'julian', 'fleet', 'meyer', 'walsh', 'underli', 'er', 'meg', 'degrad', 'barrel', 'robbin', 'drift', 'millionair', 'nicol', 'undeni', 'belushi', 'predat', 'elm', 'hypnot', 'simmon', 'condemn', 'othello', 'stalker', 'carla', 'priceless', '3d', 'shove', 'enthusiasm', 'alison', 'firm', 'watson', 'vital', 'agenda', 'mtv', 'exquisit', 'dolph', 'warmth', 'alarm', 'novak', 'nyc', 'greed', 'lampoon', 'disord', 'hay', 'roof', 'palac', 'errol', 'marion', 'unawar', 'reid', 'edgi', 'rukh', 'coup', 'randomli', 'minimum', 'gestur', 'cassidi', 'peck', 'testament', 'unleash', 'profit', 'campaign', 'spain', 'iraq', 'preserv', 'glanc', 'thompson', 'what', 'israel', 'sergeant', 'pamela', 'petti', 'ponder', '13th', 'distort', 'valentin', 'eastern', 'crown', 'peril', '1933', 'simultan', 'angela', 'nun', 'championship', 'zizek', 'orlean', 'drip', 'showdown', 'beatl', 'session', 'unimagin', 'miyazaki', 'empathi', 'valley', 'shootout', 'bro', 'contradict', 'scotland', 'restrain', 'mon', 'sabrina', 'brenda', 'jan', '1984', 'cooki', 'travesti', 'gentleman', 'regist', 'realm', 'wig', 'rout', 'perpetu', 'crawl', 'exposit', 'calib', 'buster', 'represent', 'stake', 'reson', 'quinn', 'climat', 'crow', 'stroke', 'han', 'cream', 'kurosawa', 'din', 'fido', 'passabl', 'delic', 'geek', 'compromis', 'cloud', 'sucker', 'shaki', 'femm', 'censor', 'pole', 'soderbergh', 'greg', 'fuller', 'unsatisfi', 'pretens', 'perceiv', 'painter', 'monoton', 'baldwin', 'warrant', 'traumat', 'dana', 'businessman', 'sammi', 'derang', 'distress', 'demis', 'shoddi', 'absent', 'wax', 'josh', 'ross', '1997', 'abomin', 'tacki', 'crawford', '1987', 'unseen', 'spacey', 'stargat', 'mclaglen', 'darren', 'meryl', 'ustinov', 'tech', 'uncov', 'nathan', 'anchor', 'valid', 'norm', 'correctli', 'seal', 'click', 'clash', 'furiou', 'sid', 'deceas', 'judgment', 'fenc', 'polici', 'unravel', 'expedit', 'accuraci', 'dee', 'kumar', '1993', 'jewel', 'tarantino', 'wholli', 'verbal', 'deniro', 'primit', 'exclus', 'antonioni', 'fog', 'reluct', 'austin', 'fabric', 'tax', 'sand', 'slam', 'fought', 'dreck', 'wretch', 'temper', 'crippl', 'mode', 'seldom', '1995', 'enforc', 'clerk', 'patienc', 'debt', 'vanc', 'darn', 'bake', 'behold', 'sunni', 'fart', 'sheet', 'hallucin', '1971', 'pocket', '2008', 'malon', 'roller', 'joel', 'unfair', '3000', 'sustain', 'alec', 'wang', 'ritual', 'conduct', 'logan', 'trait', 'murray', 'nicola', 'shanghai', 'bias', 'despis', 'pete', 'fundament', 'stark', 'soup', 'guitar', 'scriptwrit', 'critiqu', 'squad', 'penni', 'divid', 'grief', 'conscious', 'schedul', 'rita', 'outlin', 'isabel', 'preposter', 'exhaust', 'technicolor', 'tactic', 'helpless', 'robber', 'runner', 'clau', 'bridget', 'stuart', 'canyon', 'sweep', 'legaci', 'shell', 'preston', 'phil', 'invad', 'passag', 'consciou', 'rear', 'liberti', 'culmin', 'propos', 'unexpectedli', 'jacket', 'cigarett', 'sentinel', 'alicia', 'restrict', 'rehash', 'alley', 'palanc', 'inabl', 'lacklust', 'boyl', 'flair', 'newman', 'marc', 'bloom', 'sugar', 'agenc', 'jodi', 'delv', 'vomit', 'kansa', 'drove', 'downey', 'connor', 'implic', 'gregori', 'sniper', 'russia', 'pale', '22', 'asylum', 'tripe', 'lush', 'cap', 'chainsaw', 'sharon', 'wrench', 'behaviour', 'improb', '1936', 'rampag', 'arrow', 'ladder', 'rehears', 'tendenc', 'vet', 'horn', 'mccoy', 'delet', 'aesthet', 'feat', 'foxx', 'awhil', 'yeti', 'bacon', 'karl', 'kolchak', 'rod', 'visitor', 'elit', 'sung', 'filler', 'financ', 'weav', 'hulk', 'paradis', 'aristocrat', 'tomorrow', 'fright', 'hungri', 'newcom', 'thunderbird', 'shortcom', 'minu', 'spice', 'suspicion', 'conscienc', 'wildli', 'underneath', 'loneli', '1978', 'lurk', '1988', 'coaster', '19th', 'rhythm', '1920', 'paramount', 'amazon', 'hackney', 'stream', 'suffici', 'prank', 'wagner', 'el', 'globe', 'scoop', 'rumor', 'tasteless', 'basing', 'couch', 'immers', 'en', 'leigh', 'secondari', 'springer', 'smell', 'atroc', '1989', '1939', 'bread', 'cancer', 'heist', 'counterpart', 'standout', 'ram', '75', 'tierney', 'paxton', 'worship', 'grudg', 'literari', 'brit', 'beverli', 'dirt', 'hopkin', 'inmat', 'entranc', 'recogniz', 'teas', 'chamberlain', 'abrupt', 'penn', 'impos', 'ingeni', 'straightforward', 'minist', 'lectur', 'rub', 'choppi', 'wwe', 'naughti', 'iv', 'posey', 'quietli', 'curli', 'chavez', 'sassi', 'variat', 'net', 'attenborough', 'bernard', 'quaid', 'transcend', 'ace', 'cattl', 'laurenc', 'duel', 'geni', 'injuri', 'clan', 'ratso', 'moreov', 'misguid', 'entitl', 'convert', 'yearn', 'sublim', 'nemesi', '1986', 'skeptic', 'lindsay', 'heartfelt', 'policeman', 'morbid', 'missil', 'watcher', 'enthral', 'esther', 'nolan', 'setup', 'egg', 'spiral', 'moder', 'brood', 'cruelti', 'artsi', 'bean', '1979', 'diari', 'characteris', 'hopelessli', 'hk', 'buzz', 'steadi', 'rosemari', 'uncut', 'graini', 'out', 'dont', 'kidman', 'tyler', 'carlito', 'vader', 'youngest', 'obstacl', 'grin', 'enabl', 'bye', 'mytholog', 'reliabl', 'kitti', 'poe', 'unexplain', 'facil', 'puppi', 'effici', 'disastr', 'oblig', '1969', 'spontan', 'clueless', 'christin', 'narrow', 'preming', 'bronson', 'fuel', 'niec', 'gillian', 'patricia', 'weather', 'gina', 'bounc', 'martha', 'underworld', 'sweat', 'bewar', 'decept', 'despic', 'exterior', 'baffl', 'athlet', 'heap', 'brendan', 'hammi', 'hain', 'kline', 'acquaint', 'loi', 'rome', 'shatter', 'headach', 'mayhem', 'viewpoint', 'insipid', '73', 'suprem', 'loath', 'dilemma', 'virtu', 'angst', 'goof', 'lester', 'astound', 'mermaid', 'analyz', 'harmless', 'injur', 'candl', 'preachi', 'tick', 'enlist', 'sooner', 'sleepwalk', 'biker', '19', 'housewif', 'taboo', 'fontain', 'uh', 'trigger', 'scar', 'dandi', 'hepburn', 'renaiss', 'circu', 'outlaw', 'filth', 'phenomenon', 'tripl', 'slimi', 'immatur', 'spade', 'stair', 'amor', 'glorifi', 'salt', 'hostag', 'hooker', 'oldest', 'foolish', 'dish', 'intric', 'camcord', 'sox', 'idol', 'redund', 'stimul', 'ebert', 'fluff', 'contempt', 'steer', 'whore', 'claustrophob', 'surgeri', 'bent', 'boston', 'hokey', 'dismal', 'zoom', 'scorses', 'overlong', 'cassavet', 'macho', 'guin', 'corbett', 'ariel', 'gere', 'schlock', 'messi', 'shred', 'strongest', 'trivia', 'obligatori', 'down', 'flirt', 'flashi', 'spree', 'corman', 'remad', 'widescreen', 'muscl', 'rhyme', 'nolt', 'flag', 'antagonist', 'conquer', 'mutual', 'keen', 'proport', 'margin', 'radiat', 'zane', 'naschi', 'cow', 'fascist', 'gasp', 'assert', 'spinal', 'mount', '1981', 'transplant', 'shield', 'beard', 'preced', 'astronaut', 'cush', 'dwarf', 'cohen', 'harold', 'joker', '1976', 'frantic', 'perman', 'gabl', 'alvin', 'faint', 'divin', 'archiv', 'www', 'instruct', 'interestingli', 'resum', 'danish', 'persuad', 'mobil', 'bitten', 'strive', 'fishburn', 'inflict', 'brush', 'discern', 'claud', '95', 'vaniti', 'off', 'aborigin', '28', 'neurot', 'hara', 'raj', 'info', '1945', 'someday', 'sensual', 'departur', 'boob', 'deer', 'barn', 'bachelor', 'flock', 'scandal', 'wield', 'mol', 'carey', 'repris', 'triangl', 'ritchi', 'loretta', 'bate', 'prophet', 'banter', 'axe', 'hapless', 'luka', 'artwork', 'timberlak', 'proclaim', 'rot', 'melissa', 'casino', 'recit', 'vibrant', 'kathryn', 'mobster', 'dame', 'submit', 'cher', 'ish', 'hilar', 'wendigo', 'carlo', 'harrison', 'senior', 'clad', 'cliffhang', 'anton', 'cycl', 'hug', 'traffic', 'dim', 'jade', 'frontier', 'heartwarm', 'pixar', 'helm', 'parson', 'cb', 'undermin', 'pacif', 'fragil', 'europa', 'dylan', 'neill', 'pickford', 'biblic', 'colin', 'earnest', 'miracul', 'jo', 'articl', 'cerebr', 'holocaust', 'redneck', 'toronto', 'razor', 'feast', 'http', 'winchest', 'lucil', 'token', 'nope', 'bikini', 'misfortun', 'vanessa', 'static', 'akin', 'trier', 'electron', 'jordan', 'antholog', 'isra', 'eli', 'blatantli', 'pc', 'orphan', 'breakfast', 'aris', 'vile', 'illus', 'estrang', 'seedi', 'choke', 'uma', 'milo', 'shepherd', 'legitim', 'foil', 'mason', 'marlon', 'northern', 'rooki', 'lui', 'mathieu', 'sicken', 'flavor', 'venom', 'bondag', 'alexandr', 'wardrob', 'highway', 'oppon', 'clinic', 'huston', 'swept', 'knightley', 'styliz', 'turd', 'peer', 'affleck', 'psych', 'linear', 'magician', 'ideolog', 'nightclub', 'ceremoni', 'howl', 'cartoonish', 'fifth', 'comprehend', 'disregard', 'leather', 'tack', 'deem', 'audrey', 'charlton', 'outdat', 'feminin', 'frog', 'shorter', 'gilbert', 'retriev', 'wrestler', 'boyer', 'smack', 'dudley', 'glare', 'abund', 'gunga', '4th', 'spawn', 'senat', 'lavish', 'uniformli', 'durat', 'moe', 'client', 'lighter', 'corn', 'goldsworthi', 'monument', 'evolut', 'cemeteri', 'newer', '1991', 'cuban', 'conrad', 'compris', 'plate', 'snatch', 'greet', 'einstein', 'boo', 'lifeless', 'sleaz', 'chip', 'collector', 'mitch', 'spine', 'deliver', 'toe', '1994', 'braveheart', 'phenomen', 'bastard', 'tara', 'bogu', 'whack', 'breakdown', 'salman', 'energet', 'btw', 'summar', 'potter', 'ol', 'cecil', 'kent', 'lex', 'undertak', 'fluid', 'luxuri', '1974', 'signal', 'outright', 'firmli', 'jule', 'ie', 'bulk', 'wtf', '1977', 'appl', 'judd', 'kazan', 'embark', 'neatli', 'liu', 'occup', 'randolph', 'pronounc', 'gilliam', 'nina', 'spectacl', 'historian', 'mcqueen', 'alleg', 'creek', 'armstrong', 'evelyn', 'capot', 'clara', 'belli', 'jam', 'inaccuraci', 'replay', 'trauma', 'healthi', 'jare', 'constitut', 'jedi', 'undead', 'bori', 'sorrow', 'eleven', 'genet', 'unsuspect', 'mum', 'conan', 'unattract', 'meal', 'curtain', 'palm', 'poker', 'miniseri', 'tokyo', 'roar', 'kiddi', 'sacrif', 'pioneer', 'congratul', 'forgiven', 'galaxi', 'goldblum', 'propheci', 'blur', 'sidewalk', 'bait', 'walt', 'lanc', 'spray', 'subtli', 'decapit', 'knee', 'lauren', 'vain', 'miami', 'inaccur', 'inclus', 'aussi', 'groan', 'abound', 'ash', 'pepper', 'rosario', 'vignett', 'cape', 'basket', 'paula', 'fruit', '1985', 'comb', 'id', 'truman', 'carmen', 'comprehens', 'antonio', 'porter', 'relentless', 'bsg', 'modest', 'asset', 'substanti', 'drone', 'victorian', 'motorcycl', 'turtl', 'detach', 'dubiou', 'weaker', 'handicap', 'epitom', 'macabr', 'bravo', 'hackman', 'hostil', 'cypher', 'monti', 'ghetto', 'orchestr', 'mice', 'profil', 'ingrid', 'sophi', 'frontal', 'scarfac', 'optimist', 'assort', 'omin', 'weari', 'sparkl', 'jill', 'evan', '21st', 'growth', 'scariest'])"
      ]
     },
     "execution_count": 13,
     "metadata": {},
     "output_type": "execute_result"
    }
   ],
   "source": [
    "# TODO: Use this space to determine the five most frequently appearing words in the training set.\n",
    "word_dict.keys()"
   ]
  },
  {
   "cell_type": "markdown",
   "metadata": {},
   "source": [
    "Most frequent words: ['movi',\n",
    " 'film',\n",
    " 'one',\n",
    " 'like',\n",
    " 'time']\n",
    " \n",
    " It does makes sense that these are the most frequent words since they are general words that are used often in sentences describing movies. "
   ]
  },
  {
   "cell_type": "markdown",
   "metadata": {},
   "source": [
    "### Save `word_dict`\n",
    "\n",
    "Later on when we construct an endpoint which processes a submitted review we will need to make use of the `word_dict` which we have created. As such, we will save it to a file now for future use."
   ]
  },
  {
   "cell_type": "code",
   "execution_count": 14,
   "metadata": {},
   "outputs": [],
   "source": [
    "data_dir = '../data/pytorch' # The folder we will use for storing data\n",
    "if not os.path.exists(data_dir): # Make sure that the folder exists\n",
    "    os.makedirs(data_dir)"
   ]
  },
  {
   "cell_type": "code",
   "execution_count": 15,
   "metadata": {},
   "outputs": [],
   "source": [
    "with open(os.path.join(data_dir, 'word_dict.pkl'), \"wb\") as f:\n",
    "    pickle.dump(word_dict, f)"
   ]
  },
  {
   "cell_type": "markdown",
   "metadata": {},
   "source": [
    "### Transform the reviews\n",
    "\n",
    "Now that we have our word dictionary which allows us to transform the words appearing in the reviews into integers, it is time to make use of it and convert our reviews to their integer sequence representation, making sure to pad or truncate to a fixed length, which in our case is `500`."
   ]
  },
  {
   "cell_type": "code",
   "execution_count": 16,
   "metadata": {},
   "outputs": [],
   "source": [
    "def convert_and_pad(word_dict, sentence, pad=500):\n",
    "    NOWORD = 0 # We will use 0 to represent the 'no word' category\n",
    "    INFREQ = 1 # and we use 1 to represent the infrequent words, i.e., words not appearing in word_dict\n",
    "    \n",
    "    working_sentence = [NOWORD] * pad\n",
    "    \n",
    "    for word_index, word in enumerate(sentence[:pad]):\n",
    "        if word in word_dict:\n",
    "            working_sentence[word_index] = word_dict[word]\n",
    "        else:\n",
    "            working_sentence[word_index] = INFREQ\n",
    "            \n",
    "    return working_sentence, min(len(sentence), pad)\n",
    "\n",
    "def convert_and_pad_data(word_dict, data, pad=500):\n",
    "    result = []\n",
    "    lengths = []\n",
    "    \n",
    "    for sentence in data:\n",
    "        converted, leng = convert_and_pad(word_dict, sentence, pad)\n",
    "        result.append(converted)\n",
    "        lengths.append(leng)\n",
    "        \n",
    "    return np.array(result), np.array(lengths)"
   ]
  },
  {
   "cell_type": "code",
   "execution_count": 17,
   "metadata": {},
   "outputs": [],
   "source": [
    "train_X, train_X_len = convert_and_pad_data(word_dict, train_X)\n",
    "test_X, test_X_len = convert_and_pad_data(word_dict, test_X)"
   ]
  },
  {
   "cell_type": "markdown",
   "metadata": {},
   "source": [
    "As a quick check to make sure that things are working as intended, check to see what one of the reviews in the training set looks like after having been processeed. Does this look reasonable? What is the length of a review in the training set?"
   ]
  },
  {
   "cell_type": "code",
   "execution_count": 18,
   "metadata": {},
   "outputs": [],
   "source": [
    "# Use this cell to examine one of the processed reviews to make sure everything is working as intended.\n",
    "\n",
    "#train_X[0], len(train_X[0])"
   ]
  },
  {
   "cell_type": "markdown",
   "metadata": {},
   "source": [
    "**Question:** In the cells above we use the `preprocess_data` and `convert_and_pad_data` methods to process both the training and testing set. Why or why not might this be a problem?"
   ]
  },
  {
   "cell_type": "markdown",
   "metadata": {},
   "source": [
    "**Answer:**\n",
    "It seems like there is no problems with using these methods to process the data. Since the training and testing set are fed separately into the convert_and_pad_data method, there shouldn't be any problems with some words being innaccurately more frequent than others. "
   ]
  },
  {
   "cell_type": "markdown",
   "metadata": {},
   "source": [
    "## Step 3: Upload the data to S3\n",
    "\n",
    "As in the XGBoost notebook, we will need to upload the training dataset to S3 in order for our training code to access it. For now we will save it locally and we will upload to S3 later on.\n",
    "\n",
    "### Save the processed training dataset locally\n",
    "\n",
    "It is important to note the format of the data that we are saving as we will need to know it when we write the training code. In our case, each row of the dataset has the form `label`, `length`, `review[500]` where `review[500]` is a sequence of `500` integers representing the words in the review."
   ]
  },
  {
   "cell_type": "code",
   "execution_count": 19,
   "metadata": {},
   "outputs": [],
   "source": [
    "import pandas as pd\n",
    "    \n",
    "pd.concat([pd.DataFrame(train_y), pd.DataFrame(train_X_len), pd.DataFrame(train_X)], axis=1) \\\n",
    "        .to_csv(os.path.join(data_dir, 'train.csv'), header=False, index=False)"
   ]
  },
  {
   "cell_type": "markdown",
   "metadata": {},
   "source": [
    "### Uploading the training data\n",
    "\n",
    "\n",
    "Next, we need to upload the training data to the SageMaker default S3 bucket so that we can provide access to it while training our model."
   ]
  },
  {
   "cell_type": "code",
   "execution_count": 20,
   "metadata": {},
   "outputs": [],
   "source": [
    "import sagemaker\n",
    "\n",
    "sagemaker_session = sagemaker.Session()\n",
    "\n",
    "bucket = sagemaker_session.default_bucket()\n",
    "prefix = 'sagemaker/sentiment_rnn'\n",
    "\n",
    "role = sagemaker.get_execution_role()"
   ]
  },
  {
   "cell_type": "code",
   "execution_count": 21,
   "metadata": {},
   "outputs": [],
   "source": [
    "input_data = sagemaker_session.upload_data(path=data_dir, bucket=bucket, key_prefix=prefix)"
   ]
  },
  {
   "cell_type": "markdown",
   "metadata": {},
   "source": [
    "**NOTE:** The cell above uploads the entire contents of our data directory. This includes the `word_dict.pkl` file. This is fortunate as we will need this later on when we create an endpoint that accepts an arbitrary review. For now, we will just take note of the fact that it resides in the data directory (and so also in the S3 training bucket) and that we will need to make sure it gets saved in the model directory."
   ]
  },
  {
   "cell_type": "markdown",
   "metadata": {},
   "source": [
    "## Step 4: Build and Train the PyTorch Model\n",
    "\n",
    "In the XGBoost notebook we discussed what a model is in the SageMaker framework. In particular, a model comprises three objects\n",
    "\n",
    " - Model Artifacts,\n",
    " - Training Code, and\n",
    " - Inference Code,\n",
    " \n",
    "each of which interact with one another. In the XGBoost example we used training and inference code that was provided by Amazon. Here we will still be using containers provided by Amazon with the added benefit of being able to include our own custom code.\n",
    "\n",
    "We will start by implementing our own neural network in PyTorch along with a training script. For the purposes of this project we have provided the necessary model object in the `model.py` file, inside of the `train` folder. You can see the provided implementation by running the cell below."
   ]
  },
  {
   "cell_type": "code",
   "execution_count": 22,
   "metadata": {},
   "outputs": [
    {
     "name": "stdout",
     "output_type": "stream",
     "text": [
      "\u001b[34mimport\u001b[39;49;00m \u001b[04m\u001b[36mtorch.nn\u001b[39;49;00m \u001b[34mas\u001b[39;49;00m \u001b[04m\u001b[36mnn\u001b[39;49;00m\r\n",
      "\r\n",
      "\u001b[34mclass\u001b[39;49;00m \u001b[04m\u001b[32mLSTMClassifier\u001b[39;49;00m(nn.Module):\r\n",
      "    \u001b[33m\"\"\"\u001b[39;49;00m\r\n",
      "\u001b[33m    This is the simple RNN model we will be using to perform Sentiment Analysis.\u001b[39;49;00m\r\n",
      "\u001b[33m    \"\"\"\u001b[39;49;00m\r\n",
      "\r\n",
      "    \u001b[34mdef\u001b[39;49;00m \u001b[32m__init__\u001b[39;49;00m(\u001b[36mself\u001b[39;49;00m, embedding_dim, hidden_dim, vocab_size):\r\n",
      "        \u001b[33m\"\"\"\u001b[39;49;00m\r\n",
      "\u001b[33m        Initialize the model by settingg up the various layers.\u001b[39;49;00m\r\n",
      "\u001b[33m        \"\"\"\u001b[39;49;00m\r\n",
      "        \u001b[36msuper\u001b[39;49;00m(LSTMClassifier, \u001b[36mself\u001b[39;49;00m).\u001b[32m__init__\u001b[39;49;00m()\r\n",
      "\r\n",
      "        \u001b[36mself\u001b[39;49;00m.embedding = nn.Embedding(vocab_size, embedding_dim, padding_idx=\u001b[34m0\u001b[39;49;00m)\r\n",
      "        \u001b[36mself\u001b[39;49;00m.lstm = nn.LSTM(embedding_dim, hidden_dim)\r\n",
      "        \u001b[36mself\u001b[39;49;00m.dense = nn.Linear(in_features=hidden_dim, out_features=\u001b[34m1\u001b[39;49;00m)\r\n",
      "        \u001b[36mself\u001b[39;49;00m.sig = nn.Sigmoid()\r\n",
      "        \r\n",
      "        \u001b[36mself\u001b[39;49;00m.word_dict = \u001b[36mNone\u001b[39;49;00m\r\n",
      "\r\n",
      "    \u001b[34mdef\u001b[39;49;00m \u001b[32mforward\u001b[39;49;00m(\u001b[36mself\u001b[39;49;00m, x):\r\n",
      "        \u001b[33m\"\"\"\u001b[39;49;00m\r\n",
      "\u001b[33m        Perform a forward pass of our model on some input.\u001b[39;49;00m\r\n",
      "\u001b[33m        \"\"\"\u001b[39;49;00m\r\n",
      "        x = x.t()\r\n",
      "        lengths = x[\u001b[34m0\u001b[39;49;00m,:]\r\n",
      "        reviews = x[\u001b[34m1\u001b[39;49;00m:,:]\r\n",
      "        embeds = \u001b[36mself\u001b[39;49;00m.embedding(reviews)\r\n",
      "        lstm_out, _ = \u001b[36mself\u001b[39;49;00m.lstm(embeds)\r\n",
      "        out = \u001b[36mself\u001b[39;49;00m.dense(lstm_out)\r\n",
      "        out = out[lengths - \u001b[34m1\u001b[39;49;00m, \u001b[36mrange\u001b[39;49;00m(\u001b[36mlen\u001b[39;49;00m(lengths))]\r\n",
      "        \u001b[34mreturn\u001b[39;49;00m \u001b[36mself\u001b[39;49;00m.sig(out.squeeze())\r\n"
     ]
    }
   ],
   "source": [
    "!pygmentize train/model.py"
   ]
  },
  {
   "cell_type": "markdown",
   "metadata": {},
   "source": [
    "The important takeaway from the implementation provided is that there are three parameters that we may wish to tweak to improve the performance of our model. These are the embedding dimension, the hidden dimension and the size of the vocabulary. We will likely want to make these parameters configurable in the training script so that if we wish to modify them we do not need to modify the script itself. We will see how to do this later on. To start we will write some of the training code in the notebook so that we can more easily diagnose any issues that arise.\n",
    "\n",
    "First we will load a small portion of the training data set to use as a sample. It would be very time consuming to try and train the model completely in the notebook as we do not have access to a gpu and the compute instance that we are using is not particularly powerful. However, we can work on a small bit of the data to get a feel for how our training script is behaving."
   ]
  },
  {
   "cell_type": "code",
   "execution_count": 23,
   "metadata": {},
   "outputs": [],
   "source": [
    "import torch\n",
    "import torch.utils.data\n",
    "\n",
    "# Read in only the first 250 rows\n",
    "train_sample = pd.read_csv(os.path.join(data_dir, 'train.csv'), header=None, names=None, nrows=250)\n",
    "\n",
    "# Turn the input pandas dataframe into tensors\n",
    "train_sample_y = torch.from_numpy(train_sample[[0]].values).float().squeeze()\n",
    "train_sample_X = torch.from_numpy(train_sample.drop([0], axis=1).values).long()\n",
    "\n",
    "# Build the dataset\n",
    "train_sample_ds = torch.utils.data.TensorDataset(train_sample_X, train_sample_y)\n",
    "# Build the dataloader\n",
    "train_sample_dl = torch.utils.data.DataLoader(train_sample_ds, batch_size=50)"
   ]
  },
  {
   "cell_type": "markdown",
   "metadata": {},
   "source": [
    "### (TODO) Writing the training method\n",
    "\n",
    "Next we need to write the training code itself. This should be very similar to training methods that you have written before to train PyTorch models. We will leave any difficult aspects such as model saving / loading and parameter loading until a little later."
   ]
  },
  {
   "cell_type": "code",
   "execution_count": 24,
   "metadata": {},
   "outputs": [],
   "source": [
    "def train(model, train_loader, epochs, optimizer, loss_fn, device):\n",
    "    for epoch in range(1, epochs + 1):\n",
    "        model.train()\n",
    "        total_loss = 0\n",
    "        for batch in train_loader:         \n",
    "            batch_X, batch_y = batch\n",
    "            \n",
    "            batch_X = batch_X.to(device)\n",
    "            batch_y = batch_y.to(device)\n",
    "            \n",
    "            # TODO: Complete this train method to train the model provided.\n",
    "            \n",
    "            optimizer.zero_grad()\n",
    "            \n",
    "            output = model.forward(batch_X)\n",
    "            \n",
    "            loss = loss_fn(output, batch_y)\n",
    "            \n",
    "            loss.backward()\n",
    "            \n",
    "            optimizer.step()\n",
    "            \n",
    "            total_loss += loss.data.item()\n",
    "        print(\"Epoch: {}, BCELoss: {}\".format(epoch, total_loss / len(train_loader)))"
   ]
  },
  {
   "cell_type": "markdown",
   "metadata": {},
   "source": [
    "Supposing we have the training method above, we will test that it is working by writing a bit of code in the notebook that executes our training method on the small sample training set that we loaded earlier. The reason for doing this in the notebook is so that we have an opportunity to fix any errors that arise early when they are easier to diagnose."
   ]
  },
  {
   "cell_type": "code",
   "execution_count": 25,
   "metadata": {},
   "outputs": [
    {
     "name": "stdout",
     "output_type": "stream",
     "text": [
      "Epoch: 1, BCELoss: 0.6923811674118042\n",
      "Epoch: 2, BCELoss: 0.6827441334724427\n",
      "Epoch: 3, BCELoss: 0.6750758290290833\n",
      "Epoch: 4, BCELoss: 0.666977059841156\n",
      "Epoch: 5, BCELoss: 0.657617199420929\n"
     ]
    }
   ],
   "source": [
    "import torch.optim as optim\n",
    "from train.model import LSTMClassifier\n",
    "\n",
    "device = torch.device(\"cuda\" if torch.cuda.is_available() else \"cpu\")\n",
    "model = LSTMClassifier(32, 100, 5000).to(device)\n",
    "optimizer = optim.Adam(model.parameters())\n",
    "loss_fn = torch.nn.BCELoss()\n",
    "\n",
    "train(model, train_sample_dl, 5, optimizer, loss_fn, device)"
   ]
  },
  {
   "cell_type": "markdown",
   "metadata": {},
   "source": [
    "In order to construct a PyTorch model using SageMaker we must provide SageMaker with a training script. We may optionally include a directory which will be copied to the container and from which our training code will be run. When the training container is executed it will check the uploaded directory (if there is one) for a `requirements.txt` file and install any required Python libraries, after which the training script will be run."
   ]
  },
  {
   "cell_type": "markdown",
   "metadata": {},
   "source": [
    "### (TODO) Training the model\n",
    "\n",
    "When a PyTorch model is constructed in SageMaker, an entry point must be specified. This is the Python file which will be executed when the model is trained. Inside of the `train` directory is a file called `train.py` which has been provided and which contains most of the necessary code to train our model. The only thing that is missing is the implementation of the `train()` method which you wrote earlier in this notebook.\n",
    "\n",
    "**TODO**: Copy the `train()` method written above and paste it into the `train/train.py` file where required.\n",
    "\n",
    "The way that SageMaker passes hyperparameters to the training script is by way of arguments. These arguments can then be parsed and used in the training script. To see how this is done take a look at the provided `train/train.py` file."
   ]
  },
  {
   "cell_type": "code",
   "execution_count": 26,
   "metadata": {},
   "outputs": [],
   "source": [
    "from sagemaker.pytorch import PyTorch\n",
    "\n",
    "estimator = PyTorch(entry_point=\"train.py\",\n",
    "                    source_dir=\"train\",\n",
    "                    role=role,\n",
    "                    framework_version='0.4.0',\n",
    "                    train_instance_count=1,\n",
    "                    train_instance_type='ml.p2.xlarge',\n",
    "                    hyperparameters={\n",
    "                        'epochs': 10,\n",
    "                        'hidden_dim': 200,\n",
    "                    })"
   ]
  },
  {
   "cell_type": "code",
   "execution_count": 27,
   "metadata": {},
   "outputs": [
    {
     "name": "stdout",
     "output_type": "stream",
     "text": [
      "2019-05-25 18:11:43 Starting - Starting the training job...\n",
      "2019-05-25 18:11:45 Starting - Launching requested ML instances......\n",
      "2019-05-25 18:12:48 Starting - Preparing the instances for training......\n",
      "2019-05-25 18:14:09 Downloading - Downloading input data\n",
      "2019-05-25 18:14:09 Training - Downloading the training image......\n",
      "2019-05-25 18:15:02 Training - Training image download completed. Training in progress.\n",
      "\u001b[31mbash: cannot set terminal process group (-1): Inappropriate ioctl for device\u001b[0m\n",
      "\u001b[31mbash: no job control in this shell\u001b[0m\n",
      "\u001b[31m2019-05-25 18:15:03,913 sagemaker-containers INFO     Imported framework sagemaker_pytorch_container.training\u001b[0m\n",
      "\u001b[31m2019-05-25 18:15:03,936 sagemaker_pytorch_container.training INFO     Block until all host DNS lookups succeed.\u001b[0m\n",
      "\u001b[31m2019-05-25 18:15:06,944 sagemaker_pytorch_container.training INFO     Invoking user training script.\u001b[0m\n",
      "\u001b[31m2019-05-25 18:15:07,225 sagemaker-containers INFO     Module train does not provide a setup.py. \u001b[0m\n",
      "\u001b[31mGenerating setup.py\u001b[0m\n",
      "\u001b[31m2019-05-25 18:15:07,225 sagemaker-containers INFO     Generating setup.cfg\u001b[0m\n",
      "\u001b[31m2019-05-25 18:15:07,225 sagemaker-containers INFO     Generating MANIFEST.in\u001b[0m\n",
      "\u001b[31m2019-05-25 18:15:07,225 sagemaker-containers INFO     Installing module with the following command:\u001b[0m\n",
      "\u001b[31m/usr/bin/python -m pip install -U . -r requirements.txt\u001b[0m\n",
      "\u001b[31mProcessing /opt/ml/code\u001b[0m\n",
      "\u001b[31mCollecting pandas (from -r requirements.txt (line 1))\u001b[0m\n",
      "\u001b[31m  Downloading https://files.pythonhosted.org/packages/74/24/0cdbf8907e1e3bc5a8da03345c23cbed7044330bb8f73bb12e711a640a00/pandas-0.24.2-cp35-cp35m-manylinux1_x86_64.whl (10.0MB)\u001b[0m\n",
      "\u001b[31mCollecting numpy (from -r requirements.txt (line 2))\u001b[0m\n",
      "\u001b[31m  Downloading https://files.pythonhosted.org/packages/f6/f3/cc6c6745347c1e997cc3e58390584a250b8e22b6dfc45414a7d69a3df016/numpy-1.16.3-cp35-cp35m-manylinux1_x86_64.whl (17.2MB)\u001b[0m\n",
      "\u001b[31mCollecting nltk (from -r requirements.txt (line 3))\u001b[0m\n",
      "\u001b[31m  Downloading https://files.pythonhosted.org/packages/73/56/90178929712ce427ebad179f8dc46c8deef4e89d4c853092bee1efd57d05/nltk-3.4.1.zip (3.1MB)\u001b[0m\n",
      "\u001b[31mCollecting beautifulsoup4 (from -r requirements.txt (line 4))\n",
      "  Downloading https://files.pythonhosted.org/packages/1d/5d/3260694a59df0ec52f8b4883f5d23b130bc237602a1411fa670eae12351e/beautifulsoup4-4.7.1-py3-none-any.whl (94kB)\u001b[0m\n",
      "\u001b[31mCollecting html5lib (from -r requirements.txt (line 5))\n",
      "  Downloading https://files.pythonhosted.org/packages/a5/62/bbd2be0e7943ec8504b517e62bab011b4946e1258842bc159e5dfde15b96/html5lib-1.0.1-py2.py3-none-any.whl (117kB)\u001b[0m\n",
      "\u001b[31mCollecting pytz>=2011k (from pandas->-r requirements.txt (line 1))\n",
      "  Downloading https://files.pythonhosted.org/packages/3d/73/fe30c2daaaa0713420d0382b16fbb761409f532c56bdcc514bf7b6262bb6/pytz-2019.1-py2.py3-none-any.whl (510kB)\u001b[0m\n",
      "\u001b[31mRequirement already satisfied, skipping upgrade: python-dateutil>=2.5.0 in /usr/local/lib/python3.5/dist-packages (from pandas->-r requirements.txt (line 1)) (2.7.5)\u001b[0m\n",
      "\u001b[31mRequirement already satisfied, skipping upgrade: six in /usr/local/lib/python3.5/dist-packages (from nltk->-r requirements.txt (line 3)) (1.11.0)\u001b[0m\n",
      "\u001b[31mCollecting soupsieve>=1.2 (from beautifulsoup4->-r requirements.txt (line 4))\u001b[0m\n",
      "\u001b[31m  Downloading https://files.pythonhosted.org/packages/b9/a5/7ea40d0f8676bde6e464a6435a48bc5db09b1a8f4f06d41dd997b8f3c616/soupsieve-1.9.1-py2.py3-none-any.whl\u001b[0m\n",
      "\u001b[31mCollecting webencodings (from html5lib->-r requirements.txt (line 5))\n",
      "  Downloading https://files.pythonhosted.org/packages/f4/24/2a3e3df732393fed8b3ebf2ec078f05546de641fe1b667ee316ec1dcf3b7/webencodings-0.5.1-py2.py3-none-any.whl\u001b[0m\n",
      "\u001b[31mBuilding wheels for collected packages: nltk, train\n",
      "  Running setup.py bdist_wheel for nltk: started\n",
      "  Running setup.py bdist_wheel for nltk: finished with status 'done'\n",
      "  Stored in directory: /root/.cache/pip/wheels/97/8a/10/d646015f33c525688e91986c4544c68019b19a473cb33d3b55\n",
      "  Running setup.py bdist_wheel for train: started\u001b[0m\n",
      "\u001b[31m  Running setup.py bdist_wheel for train: finished with status 'done'\n",
      "  Stored in directory: /tmp/pip-ephem-wheel-cache-fnegwe4n/wheels/35/24/16/37574d11bf9bde50616c67372a334f94fa8356bc7164af8ca3\u001b[0m\n",
      "\u001b[31mSuccessfully built nltk train\u001b[0m\n",
      "\u001b[31mInstalling collected packages: numpy, pytz, pandas, nltk, soupsieve, beautifulsoup4, webencodings, html5lib, train\n",
      "  Found existing installation: numpy 1.15.4\n",
      "    Uninstalling numpy-1.15.4:\u001b[0m\n",
      "\u001b[31m      Successfully uninstalled numpy-1.15.4\u001b[0m\n",
      "\u001b[31mSuccessfully installed beautifulsoup4-4.7.1 html5lib-1.0.1 nltk-3.4.1 numpy-1.16.3 pandas-0.24.2 pytz-2019.1 soupsieve-1.9.1 train-1.0.0 webencodings-0.5.1\u001b[0m\n",
      "\u001b[31mYou are using pip version 18.1, however version 19.1.1 is available.\u001b[0m\n",
      "\u001b[31mYou should consider upgrading via the 'pip install --upgrade pip' command.\u001b[0m\n",
      "\u001b[31m2019-05-25 18:15:18,686 sagemaker-containers INFO     Invoking user script\n",
      "\u001b[0m\n",
      "\u001b[31mTraining Env:\n",
      "\u001b[0m\n",
      "\u001b[31m{\n",
      "    \"job_name\": \"sagemaker-pytorch-2019-05-25-18-11-42-478\",\n",
      "    \"output_dir\": \"/opt/ml/output\",\n",
      "    \"network_interface_name\": \"ethwe\",\n",
      "    \"output_intermediate_dir\": \"/opt/ml/output/intermediate\",\n",
      "    \"hosts\": [\n",
      "        \"algo-1\"\n",
      "    ],\n",
      "    \"input_dir\": \"/opt/ml/input\",\n",
      "    \"hyperparameters\": {\n",
      "        \"hidden_dim\": 200,\n",
      "        \"epochs\": 10\n",
      "    },\n",
      "    \"module_dir\": \"s3://sagemaker-us-west-2-501460770806/sagemaker-pytorch-2019-05-25-18-11-42-478/source/sourcedir.tar.gz\",\n",
      "    \"output_data_dir\": \"/opt/ml/output/data\",\n",
      "    \"module_name\": \"train\",\n",
      "    \"user_entry_point\": \"train.py\",\n",
      "    \"framework_module\": \"sagemaker_pytorch_container.training:main\",\n",
      "    \"current_host\": \"algo-1\",\n",
      "    \"input_data_config\": {\n",
      "        \"training\": {\n",
      "            \"RecordWrapperType\": \"None\",\n",
      "            \"S3DistributionType\": \"FullyReplicated\",\n",
      "            \"TrainingInputMode\": \"File\"\n",
      "        }\n",
      "    },\n",
      "    \"resource_config\": {\n",
      "        \"hosts\": [\n",
      "            \"algo-1\"\n",
      "        ],\n",
      "        \"current_host\": \"algo-1\",\n",
      "        \"network_interface_name\": \"ethwe\"\n",
      "    },\n",
      "    \"input_config_dir\": \"/opt/ml/input/config\",\n",
      "    \"num_gpus\": 1,\n",
      "    \"num_cpus\": 4,\n",
      "    \"channel_input_dirs\": {\n",
      "        \"training\": \"/opt/ml/input/data/training\"\n",
      "    },\n",
      "    \"log_level\": 20,\n",
      "    \"additional_framework_parameters\": {},\n",
      "    \"model_dir\": \"/opt/ml/model\"\u001b[0m\n",
      "\u001b[31m}\n",
      "\u001b[0m\n",
      "\u001b[31mEnvironment variables:\n",
      "\u001b[0m\n",
      "\u001b[31mSM_MODULE_DIR=s3://sagemaker-us-west-2-501460770806/sagemaker-pytorch-2019-05-25-18-11-42-478/source/sourcedir.tar.gz\u001b[0m\n",
      "\u001b[31mSM_HP_HIDDEN_DIM=200\u001b[0m\n",
      "\u001b[31mSM_CHANNELS=[\"training\"]\u001b[0m\n",
      "\u001b[31mSM_HP_EPOCHS=10\u001b[0m\n",
      "\u001b[31mSM_MODEL_DIR=/opt/ml/model\u001b[0m\n",
      "\u001b[31mSM_TRAINING_ENV={\"additional_framework_parameters\":{},\"channel_input_dirs\":{\"training\":\"/opt/ml/input/data/training\"},\"current_host\":\"algo-1\",\"framework_module\":\"sagemaker_pytorch_container.training:main\",\"hosts\":[\"algo-1\"],\"hyperparameters\":{\"epochs\":10,\"hidden_dim\":200},\"input_config_dir\":\"/opt/ml/input/config\",\"input_data_config\":{\"training\":{\"RecordWrapperType\":\"None\",\"S3DistributionType\":\"FullyReplicated\",\"TrainingInputMode\":\"File\"}},\"input_dir\":\"/opt/ml/input\",\"job_name\":\"sagemaker-pytorch-2019-05-25-18-11-42-478\",\"log_level\":20,\"model_dir\":\"/opt/ml/model\",\"module_dir\":\"s3://sagemaker-us-west-2-501460770806/sagemaker-pytorch-2019-05-25-18-11-42-478/source/sourcedir.tar.gz\",\"module_name\":\"train\",\"network_interface_name\":\"ethwe\",\"num_cpus\":4,\"num_gpus\":1,\"output_data_dir\":\"/opt/ml/output/data\",\"output_dir\":\"/opt/ml/output\",\"output_intermediate_dir\":\"/opt/ml/output/intermediate\",\"resource_config\":{\"current_host\":\"algo-1\",\"hosts\":[\"algo-1\"],\"network_interface_name\":\"ethwe\"},\"user_entry_point\":\"train.py\"}\u001b[0m\n",
      "\u001b[31mSM_RESOURCE_CONFIG={\"current_host\":\"algo-1\",\"hosts\":[\"algo-1\"],\"network_interface_name\":\"ethwe\"}\u001b[0m\n",
      "\u001b[31mSM_INPUT_CONFIG_DIR=/opt/ml/input/config\u001b[0m\n",
      "\u001b[31mSM_HOSTS=[\"algo-1\"]\u001b[0m\n",
      "\u001b[31mSM_OUTPUT_DIR=/opt/ml/output\u001b[0m\n",
      "\u001b[31mSM_MODULE_NAME=train\u001b[0m\n",
      "\u001b[31mSM_FRAMEWORK_MODULE=sagemaker_pytorch_container.training:main\u001b[0m\n",
      "\u001b[31mSM_NETWORK_INTERFACE_NAME=ethwe\u001b[0m\n",
      "\u001b[31mSM_NUM_CPUS=4\u001b[0m\n",
      "\u001b[31mSM_OUTPUT_DATA_DIR=/opt/ml/output/data\u001b[0m\n",
      "\u001b[31mSM_INPUT_DIR=/opt/ml/input\u001b[0m\n",
      "\u001b[31mSM_USER_ARGS=[\"--epochs\",\"10\",\"--hidden_dim\",\"200\"]\u001b[0m\n",
      "\u001b[31mSM_INPUT_DATA_CONFIG={\"training\":{\"RecordWrapperType\":\"None\",\"S3DistributionType\":\"FullyReplicated\",\"TrainingInputMode\":\"File\"}}\u001b[0m\n",
      "\u001b[31mPYTHONPATH=/usr/local/bin:/usr/lib/python35.zip:/usr/lib/python3.5:/usr/lib/python3.5/plat-x86_64-linux-gnu:/usr/lib/python3.5/lib-dynload:/usr/local/lib/python3.5/dist-packages:/usr/lib/python3/dist-packages\u001b[0m\n",
      "\u001b[31mSM_HPS={\"epochs\":10,\"hidden_dim\":200}\u001b[0m\n",
      "\u001b[31mSM_CURRENT_HOST=algo-1\u001b[0m\n",
      "\u001b[31mSM_NUM_GPUS=1\u001b[0m\n",
      "\u001b[31mSM_CHANNEL_TRAINING=/opt/ml/input/data/training\u001b[0m\n",
      "\u001b[31mSM_FRAMEWORK_PARAMS={}\u001b[0m\n",
      "\u001b[31mSM_OUTPUT_INTERMEDIATE_DIR=/opt/ml/output/intermediate\u001b[0m\n",
      "\u001b[31mSM_USER_ENTRY_POINT=train.py\u001b[0m\n",
      "\u001b[31mSM_LOG_LEVEL=20\n",
      "\u001b[0m\n",
      "\u001b[31mInvoking script with the following command:\n",
      "\u001b[0m\n",
      "\u001b[31m/usr/bin/python -m train --epochs 10 --hidden_dim 200\n",
      "\n",
      "\u001b[0m\n",
      "\u001b[31mUsing device cuda.\u001b[0m\n",
      "\u001b[31mGet train data loader.\u001b[0m\n"
     ]
    },
    {
     "name": "stdout",
     "output_type": "stream",
     "text": [
      "\u001b[31mModel loaded with embedding_dim 32, hidden_dim 200, vocab_size 5000.\u001b[0m\n",
      "\u001b[31mEpoch: 1, BCELoss: 0.6659762616060219\u001b[0m\n",
      "\u001b[31mEpoch: 2, BCELoss: 0.5875735246405309\u001b[0m\n",
      "\u001b[31mEpoch: 3, BCELoss: 0.5475423816515474\u001b[0m\n",
      "\u001b[31mEpoch: 4, BCELoss: 0.8547848888805935\u001b[0m\n",
      "\u001b[31mEpoch: 5, BCELoss: 0.6605284530289319\u001b[0m\n",
      "\u001b[31mEpoch: 6, BCELoss: 0.6311136703101956\u001b[0m\n",
      "\u001b[31mEpoch: 7, BCELoss: 0.6663659506914567\u001b[0m\n",
      "\u001b[31mEpoch: 8, BCELoss: 0.6274007193896235\u001b[0m\n",
      "\u001b[31mEpoch: 9, BCELoss: 0.6116847456717978\u001b[0m\n",
      "\u001b[31mEpoch: 10, BCELoss: 0.5703411053638069\u001b[0m\n",
      "\u001b[31m2019-05-25 18:18:20,044 sagemaker-containers INFO     Reporting training SUCCESS\u001b[0m\n",
      "\n",
      "2019-05-25 18:18:26 Uploading - Uploading generated training model\n",
      "2019-05-25 18:18:26 Completed - Training job completed\n",
      "Billable seconds: 271\n"
     ]
    }
   ],
   "source": [
    "estimator.fit({'training': input_data})"
   ]
  },
  {
   "cell_type": "markdown",
   "metadata": {},
   "source": [
    "## Step 5: Testing the model\n",
    "\n",
    "As mentioned at the top of this notebook, we will be testing this model by first deploying it and then sending the testing data to the deployed endpoint. We will do this so that we can make sure that the deployed model is working correctly.\n",
    "\n",
    "## Step 6: Deploy the model for testing\n",
    "\n",
    "Now that we have trained our model, we would like to test it to see how it performs. Currently our model takes input of the form `review_length, review[500]` where `review[500]` is a sequence of `500` integers which describe the words present in the review, encoded using `word_dict`. Fortunately for us, SageMaker provides built-in inference code for models with simple inputs such as this.\n",
    "\n",
    "There is one thing that we need to provide, however, and that is a function which loads the saved model. This function must be called `model_fn()` and takes as its only parameter a path to the directory where the model artifacts are stored. This function must also be present in the python file which we specified as the entry point. In our case the model loading function has been provided and so no changes need to be made.\n",
    "\n",
    "**NOTE**: When the built-in inference code is run it must import the `model_fn()` method from the `train.py` file. This is why the training code is wrapped in a main guard ( ie, `if __name__ == '__main__':` )\n",
    "\n",
    "Since we don't need to change anything in the code that was uploaded during training, we can simply deploy the current model as-is.\n",
    "\n",
    "**NOTE:** When deploying a model you are asking SageMaker to launch an compute instance that will wait for data to be sent to it. As a result, this compute instance will continue to run until *you* shut it down. This is important to know since the cost of a deployed endpoint depends on how long it has been running for.\n",
    "\n",
    "In other words **If you are no longer using a deployed endpoint, shut it down!**\n",
    "\n",
    "**TODO:** Deploy the trained model."
   ]
  },
  {
   "cell_type": "code",
   "execution_count": 28,
   "metadata": {},
   "outputs": [
    {
     "name": "stdout",
     "output_type": "stream",
     "text": [
      "--------------------------------------------------------------------------------------------------!"
     ]
    }
   ],
   "source": [
    "# TODO: Deploy the trained model\n",
    "\n",
    "predictor = estimator.deploy(initial_instance_count=1, instance_type= 'ml.p2.xlarge', )"
   ]
  },
  {
   "cell_type": "markdown",
   "metadata": {},
   "source": [
    "## Step 7 - Use the model for testing\n",
    "\n",
    "Once deployed, we can read in the test data and send it off to our deployed model to get some results. Once we collect all of the results we can determine how accurate our model is."
   ]
  },
  {
   "cell_type": "code",
   "execution_count": 29,
   "metadata": {},
   "outputs": [],
   "source": [
    "test_X = pd.concat([pd.DataFrame(test_X_len), pd.DataFrame(test_X)], axis=1)"
   ]
  },
  {
   "cell_type": "code",
   "execution_count": 30,
   "metadata": {},
   "outputs": [],
   "source": [
    "# We split the data into chunks and send each chunk seperately, accumulating the results.\n",
    "\n",
    "def predict(data, rows=512):\n",
    "    split_array = np.array_split(data, int(data.shape[0] / float(rows) + 1))\n",
    "    predictions = np.array([])\n",
    "    for array in split_array:\n",
    "        predictions = np.append(predictions, predictor.predict(array))\n",
    "    \n",
    "    return predictions"
   ]
  },
  {
   "cell_type": "code",
   "execution_count": 31,
   "metadata": {},
   "outputs": [],
   "source": [
    "predictions = predict(test_X.values)\n",
    "predictions = [round(num) for num in predictions]"
   ]
  },
  {
   "cell_type": "code",
   "execution_count": 32,
   "metadata": {},
   "outputs": [
    {
     "data": {
      "text/plain": [
       "0.75436"
      ]
     },
     "execution_count": 32,
     "metadata": {},
     "output_type": "execute_result"
    }
   ],
   "source": [
    "from sklearn.metrics import accuracy_score\n",
    "accuracy_score(test_y, predictions)"
   ]
  },
  {
   "cell_type": "markdown",
   "metadata": {},
   "source": [
    "**Question:** How does this model compare to the XGBoost model you created earlier? Why might these two models perform differently on this dataset? Which do *you* think is better for sentiment analysis?"
   ]
  },
  {
   "cell_type": "markdown",
   "metadata": {},
   "source": [
    "**Answer:**"
   ]
  },
  {
   "cell_type": "markdown",
   "metadata": {},
   "source": [
    "### (TODO) More testing\n",
    "\n",
    "We now have a trained model which has been deployed and which we can send processed reviews to and which returns the predicted sentiment. However, ultimately we would like to be able to send our model an unprocessed review. That is, we would like to send the review itself as a string. For example, suppose we wish to send the following review to our model."
   ]
  },
  {
   "cell_type": "code",
   "execution_count": 33,
   "metadata": {},
   "outputs": [],
   "source": [
    "test_review = 'The simplest pleasures in life are the best, and this film is one of them. Combining a rather basic storyline of love and adventure this movie transcends the usual weekend fair with wit and unmitigated charm.'"
   ]
  },
  {
   "cell_type": "markdown",
   "metadata": {},
   "source": [
    "The question we now need to answer is, how do we send this review to our model?\n",
    "\n",
    "Recall in the first section of this notebook we did a bunch of data processing to the IMDb dataset. In particular, we did two specific things to the provided reviews.\n",
    " - Removed any html tags and stemmed the input\n",
    " - Encoded the review as a sequence of integers using `word_dict`\n",
    " \n",
    "In order process the review we will need to repeat these two steps.\n",
    "\n",
    "**TODO**: Using the `review_to_words` and `convert_and_pad` methods from section one, convert `test_review` into a numpy array `test_data` suitable to send to our model. Remember that our model expects input of the form `review_length, review[500]`."
   ]
  },
  {
   "cell_type": "code",
   "execution_count": 34,
   "metadata": {},
   "outputs": [],
   "source": [
    "test_data = None\n",
    "predictions = None\n",
    "test_words = review_to_words(test_review)\n",
    "test_data = [np.array(convert_and_pad(word_dict, test_words)[0])]\n"
   ]
  },
  {
   "cell_type": "markdown",
   "metadata": {},
   "source": [
    "Now that we have processed the review, we can send the resulting array to our model to predict the sentiment of the review."
   ]
  },
  {
   "cell_type": "code",
   "execution_count": 35,
   "metadata": {},
   "outputs": [
    {
     "data": {
      "text/plain": [
       "array(0.5588955, dtype=float32)"
      ]
     },
     "execution_count": 35,
     "metadata": {},
     "output_type": "execute_result"
    }
   ],
   "source": [
    "predictor.predict(test_data)"
   ]
  },
  {
   "cell_type": "markdown",
   "metadata": {},
   "source": [
    "Since the return value of our model is close to `1`, we can be certain that the review we submitted is positive."
   ]
  },
  {
   "cell_type": "markdown",
   "metadata": {},
   "source": [
    "### Delete the endpoint\n",
    "\n",
    "Of course, just like in the XGBoost notebook, once we've deployed an endpoint it continues to run until we tell it to shut down. Since we are done using our endpoint for now, we can delete it."
   ]
  },
  {
   "cell_type": "code",
   "execution_count": 36,
   "metadata": {},
   "outputs": [],
   "source": [
    "estimator.delete_endpoint()"
   ]
  },
  {
   "cell_type": "markdown",
   "metadata": {},
   "source": [
    "## Step 6 (again) - Deploy the model for the web app\n",
    "\n",
    "Now that we know that our model is working, it's time to create some custom inference code so that we can send the model a review which has not been processed and have it determine the sentiment of the review.\n",
    "\n",
    "As we saw above, by default the estimator which we created, when deployed, will use the entry script and directory which we provided when creating the model. However, since we now wish to accept a string as input and our model expects a processed review, we need to write some custom inference code.\n",
    "\n",
    "We will store the code that we write in the `serve` directory. Provided in this directory is the `model.py` file that we used to construct our model, a `utils.py` file which contains the `review_to_words` and `convert_and_pad` pre-processing functions which we used during the initial data processing, and `predict.py`, the file which will contain our custom inference code. Note also that `requirements.txt` is present which will tell SageMaker what Python libraries are required by our custom inference code.\n",
    "\n",
    "When deploying a PyTorch model in SageMaker, you are expected to provide four functions which the SageMaker inference container will use.\n",
    " - `model_fn`: This function is the same function that we used in the training script and it tells SageMaker how to load our model.\n",
    " - `input_fn`: This function receives the raw serialized input that has been sent to the model's endpoint and its job is to de-serialize and make the input available for the inference code.\n",
    " - `output_fn`: This function takes the output of the inference code and its job is to serialize this output and return it to the caller of the model's endpoint.\n",
    " - `predict_fn`: The heart of the inference script, this is where the actual prediction is done and is the function which you will need to complete.\n",
    "\n",
    "For the simple website that we are constructing during this project, the `input_fn` and `output_fn` methods are relatively straightforward. We only require being able to accept a string as input and we expect to return a single value as output. You might imagine though that in a more complex application the input or output may be image data or some other binary data which would require some effort to serialize.\n",
    "\n",
    "### (TODO) Writing inference code\n",
    "\n",
    "Before writing our custom inference code, we will begin by taking a look at the code which has been provided."
   ]
  },
  {
   "cell_type": "code",
   "execution_count": 37,
   "metadata": {},
   "outputs": [
    {
     "name": "stdout",
     "output_type": "stream",
     "text": [
      "\u001b[34mimport\u001b[39;49;00m \u001b[04m\u001b[36margparse\u001b[39;49;00m\r\n",
      "\u001b[34mimport\u001b[39;49;00m \u001b[04m\u001b[36mjson\u001b[39;49;00m\r\n",
      "\u001b[34mimport\u001b[39;49;00m \u001b[04m\u001b[36mos\u001b[39;49;00m\r\n",
      "\u001b[34mimport\u001b[39;49;00m \u001b[04m\u001b[36mpickle\u001b[39;49;00m\r\n",
      "\u001b[34mimport\u001b[39;49;00m \u001b[04m\u001b[36msys\u001b[39;49;00m\r\n",
      "\u001b[34mimport\u001b[39;49;00m \u001b[04m\u001b[36msagemaker_containers\u001b[39;49;00m\r\n",
      "\u001b[34mimport\u001b[39;49;00m \u001b[04m\u001b[36mpandas\u001b[39;49;00m \u001b[34mas\u001b[39;49;00m \u001b[04m\u001b[36mpd\u001b[39;49;00m\r\n",
      "\u001b[34mimport\u001b[39;49;00m \u001b[04m\u001b[36mnumpy\u001b[39;49;00m \u001b[34mas\u001b[39;49;00m \u001b[04m\u001b[36mnp\u001b[39;49;00m\r\n",
      "\u001b[34mimport\u001b[39;49;00m \u001b[04m\u001b[36mtorch\u001b[39;49;00m\r\n",
      "\u001b[34mimport\u001b[39;49;00m \u001b[04m\u001b[36mtorch.nn\u001b[39;49;00m \u001b[34mas\u001b[39;49;00m \u001b[04m\u001b[36mnn\u001b[39;49;00m\r\n",
      "\u001b[34mimport\u001b[39;49;00m \u001b[04m\u001b[36mtorch.optim\u001b[39;49;00m \u001b[34mas\u001b[39;49;00m \u001b[04m\u001b[36moptim\u001b[39;49;00m\r\n",
      "\u001b[34mimport\u001b[39;49;00m \u001b[04m\u001b[36mtorch.utils.data\u001b[39;49;00m\r\n",
      "\r\n",
      "\u001b[34mfrom\u001b[39;49;00m \u001b[04m\u001b[36mmodel\u001b[39;49;00m \u001b[34mimport\u001b[39;49;00m LSTMClassifier\r\n",
      "\r\n",
      "\u001b[34mfrom\u001b[39;49;00m \u001b[04m\u001b[36mutils\u001b[39;49;00m \u001b[34mimport\u001b[39;49;00m review_to_words, convert_and_pad\r\n",
      "\r\n",
      "\u001b[34mdef\u001b[39;49;00m \u001b[32mmodel_fn\u001b[39;49;00m(model_dir):\r\n",
      "    \u001b[33m\"\"\"Load the PyTorch model from the `model_dir` directory.\"\"\"\u001b[39;49;00m\r\n",
      "    \u001b[34mprint\u001b[39;49;00m(\u001b[33m\"\u001b[39;49;00m\u001b[33mLoading model.\u001b[39;49;00m\u001b[33m\"\u001b[39;49;00m)\r\n",
      "\r\n",
      "    \u001b[37m# First, load the parameters used to create the model.\u001b[39;49;00m\r\n",
      "    model_info = {}\r\n",
      "    model_info_path = os.path.join(model_dir, \u001b[33m'\u001b[39;49;00m\u001b[33mmodel_info.pth\u001b[39;49;00m\u001b[33m'\u001b[39;49;00m)\r\n",
      "    \u001b[34mwith\u001b[39;49;00m \u001b[36mopen\u001b[39;49;00m(model_info_path, \u001b[33m'\u001b[39;49;00m\u001b[33mrb\u001b[39;49;00m\u001b[33m'\u001b[39;49;00m) \u001b[34mas\u001b[39;49;00m f:\r\n",
      "        model_info = torch.load(f)\r\n",
      "\r\n",
      "    \u001b[34mprint\u001b[39;49;00m(\u001b[33m\"\u001b[39;49;00m\u001b[33mmodel_info: {}\u001b[39;49;00m\u001b[33m\"\u001b[39;49;00m.format(model_info))\r\n",
      "\r\n",
      "    \u001b[37m# Determine the device and construct the model.\u001b[39;49;00m\r\n",
      "    device = torch.device(\u001b[33m\"\u001b[39;49;00m\u001b[33mcuda\u001b[39;49;00m\u001b[33m\"\u001b[39;49;00m \u001b[34mif\u001b[39;49;00m torch.cuda.is_available() \u001b[34melse\u001b[39;49;00m \u001b[33m\"\u001b[39;49;00m\u001b[33mcpu\u001b[39;49;00m\u001b[33m\"\u001b[39;49;00m)\r\n",
      "    model = LSTMClassifier(model_info[\u001b[33m'\u001b[39;49;00m\u001b[33membedding_dim\u001b[39;49;00m\u001b[33m'\u001b[39;49;00m], model_info[\u001b[33m'\u001b[39;49;00m\u001b[33mhidden_dim\u001b[39;49;00m\u001b[33m'\u001b[39;49;00m], model_info[\u001b[33m'\u001b[39;49;00m\u001b[33mvocab_size\u001b[39;49;00m\u001b[33m'\u001b[39;49;00m])\r\n",
      "\r\n",
      "    \u001b[37m# Load the store model parameters.\u001b[39;49;00m\r\n",
      "    model_path = os.path.join(model_dir, \u001b[33m'\u001b[39;49;00m\u001b[33mmodel.pth\u001b[39;49;00m\u001b[33m'\u001b[39;49;00m)\r\n",
      "    \u001b[34mwith\u001b[39;49;00m \u001b[36mopen\u001b[39;49;00m(model_path, \u001b[33m'\u001b[39;49;00m\u001b[33mrb\u001b[39;49;00m\u001b[33m'\u001b[39;49;00m) \u001b[34mas\u001b[39;49;00m f:\r\n",
      "        model.load_state_dict(torch.load(f))\r\n",
      "\r\n",
      "    \u001b[37m# Load the saved word_dict.\u001b[39;49;00m\r\n",
      "    word_dict_path = os.path.join(model_dir, \u001b[33m'\u001b[39;49;00m\u001b[33mword_dict.pkl\u001b[39;49;00m\u001b[33m'\u001b[39;49;00m)\r\n",
      "    \u001b[34mwith\u001b[39;49;00m \u001b[36mopen\u001b[39;49;00m(word_dict_path, \u001b[33m'\u001b[39;49;00m\u001b[33mrb\u001b[39;49;00m\u001b[33m'\u001b[39;49;00m) \u001b[34mas\u001b[39;49;00m f:\r\n",
      "        model.word_dict = pickle.load(f)\r\n",
      "\r\n",
      "    model.to(device).eval()\r\n",
      "\r\n",
      "    \u001b[34mprint\u001b[39;49;00m(\u001b[33m\"\u001b[39;49;00m\u001b[33mDone loading model.\u001b[39;49;00m\u001b[33m\"\u001b[39;49;00m)\r\n",
      "    \u001b[34mreturn\u001b[39;49;00m model\r\n",
      "\r\n",
      "\u001b[34mdef\u001b[39;49;00m \u001b[32minput_fn\u001b[39;49;00m(serialized_input_data, content_type):\r\n",
      "    \u001b[34mprint\u001b[39;49;00m(\u001b[33m'\u001b[39;49;00m\u001b[33mDeserializing the input data.\u001b[39;49;00m\u001b[33m'\u001b[39;49;00m)\r\n",
      "    \u001b[34mif\u001b[39;49;00m content_type == \u001b[33m'\u001b[39;49;00m\u001b[33mtext/plain\u001b[39;49;00m\u001b[33m'\u001b[39;49;00m:\r\n",
      "        data = serialized_input_data.decode(\u001b[33m'\u001b[39;49;00m\u001b[33mutf-8\u001b[39;49;00m\u001b[33m'\u001b[39;49;00m)\r\n",
      "        \u001b[34mreturn\u001b[39;49;00m data\r\n",
      "    \u001b[34mraise\u001b[39;49;00m \u001b[36mException\u001b[39;49;00m(\u001b[33m'\u001b[39;49;00m\u001b[33mRequested unsupported ContentType in content_type: \u001b[39;49;00m\u001b[33m'\u001b[39;49;00m + content_type)\r\n",
      "\r\n",
      "\u001b[34mdef\u001b[39;49;00m \u001b[32moutput_fn\u001b[39;49;00m(prediction_output, accept):\r\n",
      "    \u001b[34mprint\u001b[39;49;00m(\u001b[33m'\u001b[39;49;00m\u001b[33mSerializing the generated output.\u001b[39;49;00m\u001b[33m'\u001b[39;49;00m)\r\n",
      "    \u001b[34mreturn\u001b[39;49;00m \u001b[36mstr\u001b[39;49;00m(prediction_output)\r\n",
      "\r\n",
      "\u001b[34mdef\u001b[39;49;00m \u001b[32mpredict_fn\u001b[39;49;00m(input_data, model):\r\n",
      "    \u001b[34mprint\u001b[39;49;00m(\u001b[33m'\u001b[39;49;00m\u001b[33mInferring sentiment of input data.\u001b[39;49;00m\u001b[33m'\u001b[39;49;00m)\r\n",
      "\r\n",
      "    device = torch.device(\u001b[33m\"\u001b[39;49;00m\u001b[33mcuda\u001b[39;49;00m\u001b[33m\"\u001b[39;49;00m \u001b[34mif\u001b[39;49;00m torch.cuda.is_available() \u001b[34melse\u001b[39;49;00m \u001b[33m\"\u001b[39;49;00m\u001b[33mcpu\u001b[39;49;00m\u001b[33m\"\u001b[39;49;00m)\r\n",
      "    \r\n",
      "    \u001b[34mif\u001b[39;49;00m model.word_dict \u001b[35mis\u001b[39;49;00m \u001b[36mNone\u001b[39;49;00m:\r\n",
      "        \u001b[34mraise\u001b[39;49;00m \u001b[36mException\u001b[39;49;00m(\u001b[33m'\u001b[39;49;00m\u001b[33mModel has not been loaded properly, no word_dict.\u001b[39;49;00m\u001b[33m'\u001b[39;49;00m)\r\n",
      "    \r\n",
      "    \u001b[37m# TODO: Process input_data so that it is ready to be sent to our model.\u001b[39;49;00m\r\n",
      "    \u001b[37m#       You should produce two variables:\u001b[39;49;00m\r\n",
      "    \u001b[37m#         data_X   - A sequence of length 500 which represents the converted review\u001b[39;49;00m\r\n",
      "    \u001b[37m#         data_len - The length of the review\u001b[39;49;00m\r\n",
      "\r\n",
      "    data_X = \u001b[36mNone\u001b[39;49;00m\r\n",
      "    data_len = \u001b[36mNone\u001b[39;49;00m\r\n",
      "    \r\n",
      "    data_words = review_to_words(input_data)\r\n",
      "    data_X, data_len = convert_and_pad(model.word_dict, data_words)\r\n",
      "\r\n",
      "    \u001b[37m# Using data_X and data_len we construct an appropriate input tensor. Remember\u001b[39;49;00m\r\n",
      "    \u001b[37m# that our model expects input data of the form 'len, review[500]'.\u001b[39;49;00m\r\n",
      "    data_pack = np.hstack((data_len, data_X))\r\n",
      "    data_pack = data_pack.reshape(\u001b[34m1\u001b[39;49;00m, -\u001b[34m1\u001b[39;49;00m)\r\n",
      "    \r\n",
      "    data = torch.from_numpy(data_pack)\r\n",
      "    data = data.to(device)\r\n",
      "\r\n",
      "    \u001b[37m# Make sure to put the model into evaluation mode\u001b[39;49;00m\r\n",
      "    model.eval()\r\n",
      "\r\n",
      "    \u001b[37m# TODO: Compute the result of applying the model to the input data. The variable `result` should\u001b[39;49;00m\r\n",
      "    \u001b[37m#       be a numpy array which contains a single integer which is either 1 or 0\u001b[39;49;00m\r\n",
      "    \r\n",
      "    \u001b[34mwith\u001b[39;49;00m torch.no_grad():\r\n",
      "        output = model.forward(data)\r\n",
      "\r\n",
      "    result = np.round(output.numpy())\r\n",
      "\r\n",
      "    \u001b[34mreturn\u001b[39;49;00m result\r\n"
     ]
    }
   ],
   "source": [
    "!pygmentize serve/predict.py"
   ]
  },
  {
   "cell_type": "markdown",
   "metadata": {},
   "source": [
    "As mentioned earlier, the `model_fn` method is the same as the one provided in the training code and the `input_fn` and `output_fn` methods are very simple and your task will be to complete the `predict_fn` method. Make sure that you save the completed file as `predict.py` in the `serve` directory.\n",
    "\n",
    "**TODO**: Complete the `predict_fn()` method in the `serve/predict.py` file."
   ]
  },
  {
   "cell_type": "markdown",
   "metadata": {},
   "source": [
    "### Deploying the model\n",
    "\n",
    "Now that the custom inference code has been written, we will create and deploy our model. To begin with, we need to construct a new PyTorchModel object which points to the model artifacts created during training and also points to the inference code that we wish to use. Then we can call the deploy method to launch the deployment container.\n",
    "\n",
    "**NOTE**: The default behaviour for a deployed PyTorch model is to assume that any input passed to the predictor is a `numpy` array. In our case we want to send a string so we need to construct a simple wrapper around the `RealTimePredictor` class to accomodate simple strings. In a more complicated situation you may want to provide a serialization object, for example if you wanted to sent image data."
   ]
  },
  {
   "cell_type": "code",
   "execution_count": 38,
   "metadata": {},
   "outputs": [
    {
     "name": "stdout",
     "output_type": "stream",
     "text": [
      "--------------------------------------------------------------------------------------------------!"
     ]
    }
   ],
   "source": [
    "import sagemaker\n",
    "from sagemaker.predictor import RealTimePredictor\n",
    "from sagemaker.pytorch import PyTorchModel\n",
    "\n",
    "class StringPredictor(RealTimePredictor):\n",
    "    def __init__(self, endpoint_name, sagemaker_session):\n",
    "        super(StringPredictor, self).__init__(endpoint_name, sagemaker_session, content_type='text/plain')\n",
    "\n",
    "model = PyTorchModel(model_data=estimator.model_data,\n",
    "                     role = role,\n",
    "                     framework_version='0.4.0',\n",
    "                     entry_point='predict.py',\n",
    "                     source_dir='serve',\n",
    "                     predictor_cls=StringPredictor)\n",
    "predictor = model.deploy(initial_instance_count=1, instance_type='ml.m4.xlarge')"
   ]
  },
  {
   "cell_type": "markdown",
   "metadata": {},
   "source": [
    "### Testing the model\n",
    "\n",
    "Now that we have deployed our model with the custom inference code, we should test to see if everything is working. Here we test our model by loading the first `250` positive and negative reviews and send them to the endpoint, then collect the results. The reason for only sending some of the data is that the amount of time it takes for our model to process the input and then perform inference is quite long and so testing the entire data set would be prohibitive."
   ]
  },
  {
   "cell_type": "code",
   "execution_count": 39,
   "metadata": {},
   "outputs": [],
   "source": [
    "import glob\n",
    "\n",
    "def test_reviews(data_dir='../data/aclImdb', stop=250):\n",
    "    \n",
    "    results = []\n",
    "    ground = []\n",
    "    \n",
    "    # We make sure to test both positive and negative reviews    \n",
    "    for sentiment in ['pos', 'neg']:\n",
    "        \n",
    "        path = os.path.join(data_dir, 'test', sentiment, '*.txt')\n",
    "        files = glob.glob(path)\n",
    "        \n",
    "        files_read = 0\n",
    "        \n",
    "        print('Starting ', sentiment, ' files')\n",
    "        \n",
    "        # Iterate through the files and send them to the predictor\n",
    "        for f in files:\n",
    "            with open(f) as review:\n",
    "                # First, we store the ground truth (was the review positive or negative)\n",
    "                if sentiment == 'pos':\n",
    "                    ground.append(1)\n",
    "                else:\n",
    "                    ground.append(0)\n",
    "                # Read in the review and convert to 'utf-8' for transmission via HTTP\n",
    "                review_input = review.read().encode('utf-8')\n",
    "                # Send the review to the predictor and store the results\n",
    "                results.append(float(predictor.predict(review_input)))\n",
    "                \n",
    "            # Sending reviews to our endpoint one at a time takes a while so we\n",
    "            # only send a small number of reviews\n",
    "            files_read += 1\n",
    "            if files_read == stop:\n",
    "                break\n",
    "            \n",
    "    return ground, results"
   ]
  },
  {
   "cell_type": "code",
   "execution_count": 40,
   "metadata": {},
   "outputs": [
    {
     "name": "stdout",
     "output_type": "stream",
     "text": [
      "Starting  pos  files\n",
      "Starting  neg  files\n"
     ]
    }
   ],
   "source": [
    "import os\n",
    "\n",
    "ground, results = test_reviews()"
   ]
  },
  {
   "cell_type": "code",
   "execution_count": 41,
   "metadata": {},
   "outputs": [
    {
     "data": {
      "text/plain": [
       "0.75"
      ]
     },
     "execution_count": 41,
     "metadata": {},
     "output_type": "execute_result"
    }
   ],
   "source": [
    "from sklearn.metrics import accuracy_score\n",
    "accuracy_score(ground, results)"
   ]
  },
  {
   "cell_type": "markdown",
   "metadata": {},
   "source": [
    "As an additional test, we can try sending the `test_review` that we looked at earlier."
   ]
  },
  {
   "cell_type": "code",
   "execution_count": 42,
   "metadata": {},
   "outputs": [
    {
     "data": {
      "text/plain": [
       "b'1.0'"
      ]
     },
     "execution_count": 42,
     "metadata": {},
     "output_type": "execute_result"
    }
   ],
   "source": [
    "predictor.predict(test_review)"
   ]
  },
  {
   "cell_type": "markdown",
   "metadata": {},
   "source": [
    "Now that we know our endpoint is working as expected, we can set up the web page that will interact with it. If you don't have time to finish the project now, make sure to skip down to the end of this notebook and shut down your endpoint. You can deploy it again when you come back."
   ]
  },
  {
   "cell_type": "markdown",
   "metadata": {},
   "source": [
    "## Step 7 (again): Use the model for the web app\n",
    "\n",
    "> **TODO:** This entire section and the next contain tasks for you to complete, mostly using the AWS console.\n",
    "\n",
    "So far we have been accessing our model endpoint by constructing a predictor object which uses the endpoint and then just using the predictor object to perform inference. What if we wanted to create a web app which accessed our model? The way things are set up currently makes that not possible since in order to access a SageMaker endpoint the app would first have to authenticate with AWS using an IAM role which included access to SageMaker endpoints. However, there is an easier way! We just need to use some additional AWS services.\n",
    "\n",
    "<img src=\"Web App Diagram.svg\">\n",
    "\n",
    "The diagram above gives an overview of how the various services will work together. On the far right is the model which we trained above and which is deployed using SageMaker. On the far left is our web app that collects a user's movie review, sends it off and expects a positive or negative sentiment in return.\n",
    "\n",
    "In the middle is where some of the magic happens. We will construct a Lambda function, which you can think of as a straightforward Python function that can be executed whenever a specified event occurs. We will give this function permission to send and recieve data from a SageMaker endpoint.\n",
    "\n",
    "Lastly, the method we will use to execute the Lambda function is a new endpoint that we will create using API Gateway. This endpoint will be a url that listens for data to be sent to it. Once it gets some data it will pass that data on to the Lambda function and then return whatever the Lambda function returns. Essentially it will act as an interface that lets our web app communicate with the Lambda function.\n",
    "\n",
    "### Setting up a Lambda function\n",
    "\n",
    "The first thing we are going to do is set up a Lambda function. This Lambda function will be executed whenever our public API has data sent to it. When it is executed it will receive the data, perform any sort of processing that is required, send the data (the review) to the SageMaker endpoint we've created and then return the result.\n",
    "\n",
    "#### Part A: Create an IAM Role for the Lambda function\n",
    "\n",
    "Since we want the Lambda function to call a SageMaker endpoint, we need to make sure that it has permission to do so. To do this, we will construct a role that we can later give the Lambda function.\n",
    "\n",
    "Using the AWS Console, navigate to the **IAM** page and click on **Roles**. Then, click on **Create role**. Make sure that the **AWS service** is the type of trusted entity selected and choose **Lambda** as the service that will use this role, then click **Next: Permissions**.\n",
    "\n",
    "In the search box type `sagemaker` and select the check box next to the **AmazonSageMakerFullAccess** policy. Then, click on **Next: Review**.\n",
    "\n",
    "Lastly, give this role a name. Make sure you use a name that you will remember later on, for example `LambdaSageMakerRole`. Then, click on **Create role**.\n",
    "\n",
    "#### Part B: Create a Lambda function\n",
    "\n",
    "Now it is time to actually create the Lambda function.\n",
    "\n",
    "Using the AWS Console, navigate to the AWS Lambda page and click on **Create a function**. When you get to the next page, make sure that **Author from scratch** is selected. Now, name your Lambda function, using a name that you will remember later on, for example `sentiment_analysis_func`. Make sure that the **Python 3.6** runtime is selected and then choose the role that you created in the previous part. Then, click on **Create Function**.\n",
    "\n",
    "On the next page you will see some information about the Lambda function you've just created. If you scroll down you should see an editor in which you can write the code that will be executed when your Lambda function is triggered. In our example, we will use the code below. \n",
    "\n",
    "```python\n",
    "# We need to use the low-level library to interact with SageMaker since the SageMaker API\n",
    "# is not available natively through Lambda.\n",
    "import boto3\n",
    "\n",
    "def lambda_handler(event, context):\n",
    "\n",
    "    # The SageMaker runtime is what allows us to invoke the endpoint that we've created.\n",
    "    runtime = boto3.Session().client('sagemaker-runtime')\n",
    "\n",
    "    # Now we use the SageMaker runtime to invoke our endpoint, sending the review we were given\n",
    "    response = runtime.invoke_endpoint(EndpointName = '**ENDPOINT NAME HERE**',    # The name of the endpoint we created\n",
    "                                       ContentType = 'text/plain',                 # The data format that is expected\n",
    "                                       Body = event['body'])                       # The actual review\n",
    "\n",
    "    # The response is an HTTP response whose body contains the result of our inference\n",
    "    result = response['Body'].read().decode('utf-8')\n",
    "\n",
    "    return {\n",
    "        'statusCode' : 200,\n",
    "        'headers' : { 'Content-Type' : 'text/plain', 'Access-Control-Allow-Origin' : '*' },\n",
    "        'body' : result\n",
    "    }\n",
    "```\n",
    "\n",
    "Once you have copy and pasted the code above into the Lambda code editor, replace the `**ENDPOINT NAME HERE**` portion with the name of the endpoint that we deployed earlier. You can determine the name of the endpoint using the code cell below."
   ]
  },
  {
   "cell_type": "code",
   "execution_count": 43,
   "metadata": {},
   "outputs": [
    {
     "data": {
      "text/plain": [
       "'sagemaker-pytorch-2019-05-25-18-27-25-883'"
      ]
     },
     "execution_count": 43,
     "metadata": {},
     "output_type": "execute_result"
    }
   ],
   "source": [
    "predictor.endpoint"
   ]
  },
  {
   "cell_type": "markdown",
   "metadata": {},
   "source": [
    "Once you have added the endpoint name to the Lambda function, click on **Save**. Your Lambda function is now up and running. Next we need to create a way for our web app to execute the Lambda function.\n",
    "\n",
    "### Setting up API Gateway\n",
    "\n",
    "Now that our Lambda function is set up, it is time to create a new API using API Gateway that will trigger the Lambda function we have just created.\n",
    "\n",
    "Using AWS Console, navigate to **Amazon API Gateway** and then click on **Get started**.\n",
    "\n",
    "On the next page, make sure that **New API** is selected and give the new api a name, for example, `sentiment_analysis_api`. Then, click on **Create API**.\n",
    "\n",
    "Now we have created an API, however it doesn't currently do anything. What we want it to do is to trigger the Lambda function that we created earlier.\n",
    "\n",
    "Select the **Actions** dropdown menu and click **Create Method**. A new blank method will be created, select its dropdown menu and select **POST**, then click on the check mark beside it.\n",
    "\n",
    "For the integration point, make sure that **Lambda Function** is selected and click on the **Use Lambda Proxy integration**. This option makes sure that the data that is sent to the API is then sent directly to the Lambda function with no processing. It also means that the return value must be a proper response object as it will also not be processed by API Gateway.\n",
    "\n",
    "Type the name of the Lambda function you created earlier into the **Lambda Function** text entry box and then click on **Save**. Click on **OK** in the pop-up box that then appears, giving permission to API Gateway to invoke the Lambda function you created.\n",
    "\n",
    "The last step in creating the API Gateway is to select the **Actions** dropdown and click on **Deploy API**. You will need to create a new Deployment stage and name it anything you like, for example `prod`.\n",
    "\n",
    "You have now successfully set up a public API to access your SageMaker model. Make sure to copy or write down the URL provided to invoke your newly created public API as this will be needed in the next step. This URL can be found at the top of the page, highlighted in blue next to the text **Invoke URL**."
   ]
  },
  {
   "cell_type": "markdown",
   "metadata": {},
   "source": [
    "## Step 4: Deploying our web app\n",
    "\n",
    "Now that we have a publicly available API, we can start using it in a web app. For our purposes, we have provided a simple static html file which can make use of the public api you created earlier.\n",
    "\n",
    "In the `website` folder there should be a file called `index.html`. Download the file to your computer and open that file up in a text editor of your choice. There should be a line which contains **\\*\\*REPLACE WITH PUBLIC API URL\\*\\***. Replace this string with the url that you wrote down in the last step and then save the file.\n",
    "\n",
    "Now, if you open `index.html` on your local computer, your browser will behave as a local web server and you can use the provided site to interact with your SageMaker model.\n",
    "\n",
    "If you'd like to go further, you can host this html file anywhere you'd like, for example using github or hosting a static site on Amazon's S3. Once you have done this you can share the link with anyone you'd like and have them play with it too!\n",
    "\n",
    "> **Important Note** In order for the web app to communicate with the SageMaker endpoint, the endpoint has to actually be deployed and running. This means that you are paying for it. Make sure that the endpoint is running when you want to use the web app but that you shut it down when you don't need it, otherwise you will end up with a surprisingly large AWS bill.\n",
    "\n",
    "**TODO:** Make sure that you include the edited `index.html` file in your project submission."
   ]
  },
  {
   "cell_type": "markdown",
   "metadata": {},
   "source": [
    "Now that your web app is working, trying playing around with it and see how well it works.\n",
    "\n",
    "**Question**: Give an example of a review that you entered into your web app. What was the predicted sentiment of your example review?"
   ]
  },
  {
   "cell_type": "markdown",
   "metadata": {},
   "source": [
    "**Answer:**\n",
    "Sample Review: \n",
    "\n",
    "\"This movie was terribly good. I hated how good it was. The story line was beautiful and well written. \"\n",
    "\n",
    "Predicted Positive. I was impressed since I used the words \"terribly\" and \"hated\" in the review to see if I can trick the model into thinking it was negative review.\n"
   ]
  },
  {
   "cell_type": "markdown",
   "metadata": {},
   "source": [
    "### Delete the endpoint\n",
    "\n",
    "Remember to always shut down your endpoint if you are no longer using it. You are charged for the length of time that the endpoint is running so if you forget and leave it on you could end up with an unexpectedly large bill."
   ]
  },
  {
   "cell_type": "code",
   "execution_count": 45,
   "metadata": {},
   "outputs": [],
   "source": [
    "predictor.delete_endpoint()"
   ]
  },
  {
   "cell_type": "code",
   "execution_count": null,
   "metadata": {
    "collapsed": true
   },
   "outputs": [],
   "source": []
  }
 ],
 "metadata": {
  "kernelspec": {
   "display_name": "conda_pytorch_p36",
   "language": "python",
   "name": "conda_pytorch_p36"
  },
  "language_info": {
   "codemirror_mode": {
    "name": "ipython",
    "version": 3
   },
   "file_extension": ".py",
   "mimetype": "text/x-python",
   "name": "python",
   "nbconvert_exporter": "python",
   "pygments_lexer": "ipython3",
   "version": "3.6.5"
  }
 },
 "nbformat": 4,
 "nbformat_minor": 2
}
